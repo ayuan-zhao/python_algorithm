{
 "cells": [
  {
   "cell_type": "markdown",
   "id": "f1c9516c",
   "metadata": {},
   "source": [
    "# 刷题基础\n"
   ]
  },
  {
   "cell_type": "markdown",
   "id": "01e6bf1c",
   "metadata": {},
   "source": [
    "## 类的方法"
   ]
  },
  {
   "cell_type": "code",
   "execution_count": null,
   "id": "4fd26285",
   "metadata": {},
   "outputs": [],
   "source": [
    "\n",
    "class A(object):\n",
    "    a = 'a'\n",
    "    #这个@staticmethod是必须的\n",
    "    @staticmethod\n",
    "    def foo1(name):\n",
    "        print ('hello', name)\n",
    "    def foo2(self, name):\n",
    "        print ('hello', name)\n",
    "   #classmethod\n",
    "    def foo3(cls, name):\n",
    "        print('hello', name)"
   ]
  },
  {
   "cell_type": "code",
   "execution_count": null,
   "id": "94929ef0",
   "metadata": {},
   "outputs": [],
   "source": [
    "\n",
    "class A(object):\n",
    "    a = 'a'\n",
    "    #这个@staticmethod是必须的\n",
    "    @staticmethod\n",
    "    def foo1(name):\n",
    "        print ('hello', name)"
   ]
  },
  {
   "cell_type": "markdown",
   "id": "5fbe0ba8",
   "metadata": {},
   "source": [
    "\n",
    "静态函数：\n",
    "foo1为静态函数，用#staticmethod装饰器装饰，这种方法与类有某种关系 但### 不需要 ###使用到实例或者类来参与。\n",
    "如下两种方法都可以正常输出，也就是说既可以作为类的方法使用，也可以作为类的实例的方法使用。\n"
   ]
  },
  {
   "cell_type": "code",
   "execution_count": null,
   "id": "2e466566",
   "metadata": {},
   "outputs": [],
   "source": [
    "a = A()\n",
    "a.foo1('mamq') # 输出: hello mamq\n",
    "A.foo1('mamq')# 输出: hello mamq"
   ]
  },
  {
   "cell_type": "code",
   "execution_count": null,
   "id": "f8ad4eda",
   "metadata": {},
   "outputs": [],
   "source": []
  },
  {
   "cell_type": "code",
   "execution_count": null,
   "id": "6fcf02a1",
   "metadata": {},
   "outputs": [],
   "source": [
    "class A(object):\n",
    "    a = 'a'\n",
    "    def foo2(self, name):\n",
    "        print ('hello', name)"
   ]
  },
  {
   "cell_type": "code",
   "execution_count": null,
   "id": "11af559e",
   "metadata": {},
   "outputs": [],
   "source": [
    "a = A()\n",
    "a.foo2('normal method') # 输出: hello mamq\n",
    "#A.foo2('mamq') # 报错: unbound method foo2() must be called with A instance as first argument (got str instance instead)\n",
    "\n"
   ]
  },
  {
   "cell_type": "code",
   "execution_count": null,
   "id": "0095d188",
   "metadata": {},
   "outputs": [],
   "source": []
  },
  {
   "cell_type": "code",
   "execution_count": null,
   "id": "80f85279",
   "metadata": {},
   "outputs": [],
   "source": [
    "\n"
   ]
  },
  {
   "cell_type": "code",
   "execution_count": null,
   "id": "cd1849ea",
   "metadata": {},
   "outputs": [],
   "source": [
    "#Reverse 3-digit Integer\n",
    "#翻转三个数字\n",
    "class Solution:\n",
    "    \"\"\"\n",
    "    @param number: A 3-digit number.\n",
    "    @return: Reversed number.\n",
    "    \"\"\"\n",
    "    def reverseInteger(self, number):\n",
    "        # write your code here\n",
    "        return int(str(number)[::-1])\n",
    "    \n",
    "    "
   ]
  },
  {
   "cell_type": "code",
   "execution_count": null,
   "id": "3ff1890d",
   "metadata": {},
   "outputs": [],
   "source": [
    "class Solution:\n",
    "    def reverseInteger(self, number):\n",
    "        return int(str(number)[::-1])\n",
    "    \n",
    "\n",
    "solution()    "
   ]
  }
 ],
 "metadata": {
  "kernelspec": {
   "display_name": "Python 3",
   "language": "python",
   "name": "python3"
  },
  "language_info": {
   "codemirror_mode": {
    "name": "ipython",
    "version": 3
   },
   "file_extension": ".py",
   "mimetype": "text/x-python",
   "name": "python",
   "nbconvert_exporter": "python",
   "pygments_lexer": "ipython3",
   "version": "3.8.8"
  }
 },
 "nbformat": 4,
 "nbformat_minor": 5
}
