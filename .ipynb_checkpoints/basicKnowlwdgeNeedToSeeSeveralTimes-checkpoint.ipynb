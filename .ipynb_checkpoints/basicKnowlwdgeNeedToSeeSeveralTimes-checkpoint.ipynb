{
 "cells": [
  {
   "cell_type": "markdown",
   "id": "f1c9516c",
   "metadata": {},
   "source": [
    "# 刷题基础\n"
   ]
  },
  {
   "cell_type": "markdown",
   "id": "01e6bf1c",
   "metadata": {},
   "source": [
    "## 类的方法"
   ]
  },
  {
   "cell_type": "code",
   "execution_count": null,
   "id": "4fd26285",
   "metadata": {},
   "outputs": [],
   "source": [
    "\n",
    "class A(object):\n",
    "    a = 'a'\n",
    "    #这个@staticmethod是必须的\n",
    "    @staticmethod\n",
    "    def foo1(name):\n",
    "        print ('hello', name)\n",
    "    def foo2(self, name):\n",
    "        print ('hello', name)\n",
    "   #classmethod\n",
    "    def foo3(cls, name):\n",
    "        print('hello', name)"
   ]
  },
  {
   "cell_type": "code",
   "execution_count": null,
   "id": "94929ef0",
   "metadata": {},
   "outputs": [],
   "source": [
    "\n",
    "class A(object):\n",
    "    a = 'a'\n",
    "    #这个@staticmethod是必须的\n",
    "    @staticmethod\n",
    "    def foo1(name):\n",
    "        print ('hello', name)"
   ]
  },
  {
   "cell_type": "markdown",
   "id": "5fbe0ba8",
   "metadata": {},
   "source": [
    "\n",
    "静态函数：\n",
    "foo1为静态函数，用#staticmethod装饰器装饰，这种方法与类有某种关系 但### 不需要 ###使用到实例或者类来参与。\n",
    "如下两种方法都可以正常输出，也就是说既可以作为类的方法使用，也可以作为类的实例的方法使用。\n"
   ]
  },
  {
   "cell_type": "code",
   "execution_count": null,
   "id": "2e466566",
   "metadata": {},
   "outputs": [],
   "source": [
    "a = A()\n",
    "a.foo1('mamq') # 输出: hello mamq\n",
    "A.foo1('mamq')# 输出: hello mamq"
   ]
  },
  {
   "cell_type": "code",
   "execution_count": null,
   "id": "f8ad4eda",
   "metadata": {},
   "outputs": [],
   "source": []
  },
  {
   "cell_type": "code",
   "execution_count": null,
   "id": "6fcf02a1",
   "metadata": {},
   "outputs": [],
   "source": [
    "class A(object):\n",
    "    a = 'a'\n",
    "    def foo2(self, name):\n",
    "        print ('hello', name)"
   ]
  },
  {
   "cell_type": "code",
   "execution_count": null,
   "id": "11af559e",
   "metadata": {},
   "outputs": [],
   "source": [
    "a = A()\n",
    "a.foo2('normal method') # 输出: hello mamq\n",
    "#A.foo2('mamq') # 报错: unbound method foo2() must be called with A instance as first argument (got str instance instead)\n",
    "\n"
   ]
  },
  {
   "cell_type": "code",
   "execution_count": null,
   "id": "0095d188",
   "metadata": {},
   "outputs": [],
   "source": []
  },
  {
   "cell_type": "code",
   "execution_count": null,
   "id": "80f85279",
   "metadata": {},
   "outputs": [],
   "source": [
    "\n"
   ]
  },
  {
   "cell_type": "code",
   "execution_count": null,
   "id": "cd1849ea",
   "metadata": {},
   "outputs": [],
   "source": [
    "#Reverse 3-digit Integer\n",
    "#翻转三个数字\n",
    "class Solution:\n",
    "    \"\"\"\n",
    "    @param number: A 3-digit number.\n",
    "    @return: Reversed number.\n",
    "    \"\"\"\n",
    "    def reverseInteger(self, number):\n",
    "        # write your code here\n",
    "        return int(str(number)[::-1])\n",
    "    \n",
    "    "
   ]
  },
  {
   "cell_type": "code",
   "execution_count": null,
   "id": "3ff1890d",
   "metadata": {},
   "outputs": [],
   "source": [
    "class Solution:\n",
    "    def reverseInteger(self, number):\n",
    "        return int(str(number)[::-1])\n",
    "    \n",
    "\n",
    "solution()    "
   ]
  },
  {
   "cell_type": "markdown",
   "id": "752af3f3",
   "metadata": {},
   "source": [
    ">>> for count, value in enumerate(values, start=1):\n",
    "...     print(count, value)\n",
    "...\n",
    "1 a\n",
    "2 b\n",
    "3 c\n",
    "#枚举啊，可以打出indexing和具体的值"
   ]
  },
  {
   "cell_type": "markdown",
   "id": "31e63f7f",
   "metadata": {},
   "source": [
    "## 0 和 1\n",
    "## 0 是false\n",
    "## 1 是 true\n",
    "### 其它 -1，2，这些都不认"
   ]
  },
  {
   "cell_type": "markdown",
   "id": "41a00043",
   "metadata": {},
   "source": []
  },
  {
   "cell_type": "markdown",
   "id": "06492535",
   "metadata": {},
   "source": [
    "# 数组理论\n"
   ]
  },
  {
   "cell_type": "markdown",
   "id": "e68b7ac1",
   "metadata": {},
   "source": [
    "需要两点注意的是\n",
    "\n",
    "数组下标都是从0开始的。\n",
    "\n",
    "数组内存空间的地址是连续的\n",
    "\n",
    "正是因为数组的在内存空间的地址是连续的，所以我们在删除或者增添元素的时候，就难免要移动其他元素的地址。\n",
    "\n",
    "#### 数组的元素是不能删的，只能覆盖。\n",
    "\n",
    "那么二维数组在内存的空间地址是连续的么？\n",
    "\n",
    "int [][] rating = new int [3][4];#先row,再column\n",
    "        0 1 2 3 \n",
    "     0   \n",
    "     1\n",
    "     2\n",
    "    所以二维数据在内存中不是 3*4 的连续地址空间，而是四条连续的地址空间组成！ \n"
   ]
  },
  {
   "cell_type": "markdown",
   "id": "76b7495b",
   "metadata": {},
   "source": []
  },
  {
   "cell_type": "markdown",
   "id": "19b5eb49",
   "metadata": {},
   "source": [
    "https://leetcode-cn.com/problems/binary-search/二分法\n",
    "二分法：\n",
    "这道题目的前提是数组为有序数组，同时题目还强调数组中无重复元素，因为一旦有重复元素，使用二分查找法返回的元素下标可能不是唯一的，这些都是使用二分法的前提条件，当大家看到题目描述满足如上条件的时候，可要想一想是不是可以用二分法了。g"
   ]
  },
  {
   "cell_type": "markdown",
   "id": "bb0faf71",
   "metadata": {},
   "source": []
  }
 ],
 "metadata": {
  "kernelspec": {
   "display_name": "Python 3",
   "language": "python",
   "name": "python3"
  },
  "language_info": {
   "codemirror_mode": {
    "name": "ipython",
    "version": 3
   },
   "file_extension": ".py",
   "mimetype": "text/x-python",
   "name": "python",
   "nbconvert_exporter": "python",
   "pygments_lexer": "ipython3",
   "version": "3.8.8"
  }
 },
 "nbformat": 4,
 "nbformat_minor": 5
}
