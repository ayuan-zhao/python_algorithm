{
 "cells": [
  {
   "cell_type": "markdown",
   "id": "8e8c2215",
   "metadata": {},
   "source": [
    "## 冒泡排序（Bubble Sort）\n",
    "也是一种简单直观的排序算法。它重复地走访过要排序的数列，一次比较两个元素，如果他们的顺序错误就把他们交换过来。走访数列的工作是重复地进行直到没有再需要交换，也就是说该数列已经排序完成。这个算法的名字由来是因为越小的元素会经由交换慢慢\"浮\"到数列的顶端。\n",
    "\n",
    "作为最简单的排序算法之一，冒泡排序给我的感觉就像 Abandon 在单词书里出现的感觉一样，每次都在第一页第一位，所以最熟悉。冒泡排序还有一种优化算法，就是立一个 flag，当在一趟序列遍历中元素没有发生交换，则证明该序列已经有序。但这种改进对于提升性能来\n",
    "\n",
    "说并没有什么太大作用。\n",
    "\n",
    "算法步骤\n",
    "\n",
    "比较相邻的元素。如果第一个比第二个大，就交换他们两个。\n",
    "\n",
    "对每一对相邻元素作同样的工作，从开始第一对到结尾的最后一对。这步做完后，最后的元素会是最大的数。\n",
    "\n",
    "针对所有的元素重复以上的步骤，除了最后一个。\n",
    "\n",
    "持续每次对越来越少的元素重复上面的步骤，直到没有任何一对数字需要比较。"
   ]
  },
  {
   "cell_type": "code",
   "execution_count": 36,
   "id": "50ab8f41",
   "metadata": {},
   "outputs": [],
   "source": [
    "#冒泡排序\n",
    "def bubbleSort(arr):\n",
    "    for i in range(1, len(arr)):\n",
    "        #每次都比到最后一个，选出最大的数，所以经过一轮比较过的数就不需要再比了，可以len(arr)-i\n",
    "        for j in range(0, len(arr)-i):\n",
    "            #如果前一个数大于后一个数，这里面就不需要有i的参与了，直接用j+1做为坐标就可以，\n",
    "            if arr[j] > arr[j+1]:\n",
    "                #换的时候用j和j+1作为锚，i只作为一个开始的点，和排序次数的计算\n",
    "                arr[j], arr[j + 1] = arr[j + 1], arr[j]\n",
    "    return arr"
   ]
  },
  {
   "cell_type": "code",
   "execution_count": 160,
   "id": "79653370",
   "metadata": {},
   "outputs": [],
   "source": [
    "arr1 = [1,6,3,4,3,2,4,3,5,3,5,6,6]\n",
    "def bubbleSort(arr):\n",
    "    for i in range(1,len(arr)):\n",
    "        for j in range(0,len(arr)-i):\n",
    "            if arr[j] > arr[j+1]:\n",
    "                arr[j],arr[j+1]= arr[j+1],arr[j]\n",
    "    return arr            \n",
    "            "
   ]
  },
  {
   "cell_type": "code",
   "execution_count": 161,
   "id": "9457429a",
   "metadata": {},
   "outputs": [
    {
     "name": "stdout",
     "output_type": "stream",
     "text": [
      "[1, 6, 3, 4, 3, 2, 4, 3, 5, 3, 5, 6, 6]\n",
      "[1, 2, 3, 3, 3, 3, 4, 4, 5, 5, 6, 6, 6]\n"
     ]
    }
   ],
   "source": [
    "print(arr1)\n",
    "bubbleSort(arr1)\n",
    "print(arr1)"
   ]
  },
  {
   "cell_type": "code",
   "execution_count": 55,
   "id": "2cfe7133",
   "metadata": {},
   "outputs": [],
   "source": [
    "arr1 = [1,6,3,4,3,2,4,3,5,3,5,6,6]\n",
    "def bubbleSort(arr):\n",
    "    for i in range(len(arr) - 1, 0, -1):  # 反向遍历\n",
    "        for j in range(0, i):  # 由于最右侧的值已经有序，不再比较，每次都减少遍历次数\n",
    "            if arr[j] > arr[j + 1]:\n",
    "                arr[j], arr[j + 1] = arr[j + 1], arr[j]\n",
    "    return arr"
   ]
  },
  {
   "cell_type": "code",
   "execution_count": 56,
   "id": "39a33fc0",
   "metadata": {},
   "outputs": [
    {
     "data": {
      "text/plain": [
       "[1, 2, 3, 3, 3, 3, 4, 4, 5, 5, 6, 6, 6]"
      ]
     },
     "execution_count": 56,
     "metadata": {},
     "output_type": "execute_result"
    }
   ],
   "source": [
    "bubbleSort(arr1)"
   ]
  },
  {
   "cell_type": "code",
   "execution_count": 16,
   "id": "bcbec88e",
   "metadata": {},
   "outputs": [
    {
     "data": {
      "text/plain": [
       "'\\n选择排序是一种简单直观的排序算法，无论什么数据进去都是 O(n²) 的时间复杂度。所以用到它的时候，数据规模越小越好。唯一的好处可能就是不占用额外的内存空间了吧。\\n\\n1. 算法步骤\\n首先在未排序序列中找到最小（大）元素，存放到排序序列的起始位置。\\n\\n再从剩余未排序元素中继续寻找最小（大）元素，然后放到已排序序列的末尾。\\n\\n重复第二步，直到所有元素均排序完毕。\\n'"
      ]
     },
     "execution_count": 16,
     "metadata": {},
     "output_type": "execute_result"
    }
   ],
   "source": [
    "#选择排序 selection sort\n",
    "'''\n",
    "选择排序是一种简单直观的排序算法，无论什么数据进去都是 O(n²) 的时间复杂度。所以用到它的时候，数据规模越小越好。唯一的好处可能就是不占用额外的内存空间了吧。\n",
    "\n",
    "1. 算法步骤\n",
    "首先在未排序序列中找到最小（大）元素，存放到排序序列的起始位置。\n",
    "\n",
    "再从剩余未排序元素中继续寻找最小（大）元素，然后放到已排序序列的末尾。\n",
    "\n",
    "重复第二步，直到所有元素均排序完毕。\n",
    "'''\n"
   ]
  },
  {
   "cell_type": "code",
   "execution_count": 17,
   "id": "cbd2baa4",
   "metadata": {},
   "outputs": [],
   "source": [
    "#选择排序\n",
    "def selectionSort(arr):\n",
    "    for i in range(len(arr) - 1):\n",
    "        minIndex = i\n",
    "        for j in range(i + 1, len(arr)):\n",
    "            if arr[j] < arr[minIndex]:\n",
    "                minIndex = j\n",
    "        # i 不是最小数时，将 i 和最小数进行交换\n",
    "        if i != minIndex:\n",
    "            arr[i], arr[minIndex] = arr[minIndex], arr[i]\n",
    "    return arr"
   ]
  },
  {
   "cell_type": "code",
   "execution_count": null,
   "id": "214decb5",
   "metadata": {},
   "outputs": [],
   "source": [
    "def selectionSort(arr):\n",
    "    for i in range()"
   ]
  },
  {
   "cell_type": "code",
   "execution_count": 68,
   "id": "edaf76cc",
   "metadata": {},
   "outputs": [],
   "source": [
    "arr1 = [1,6,3,4,3,2,4,3,5,3,5,6,6]\n",
    "def selectionSort(arr):\n",
    "    #循环 arr 的 index ，\n",
    "    #先是（0，len(arr)-1）,后面是（i+1,len(arr)），j循环的是i+1的结果，前后条件都要+1，也就是（i+1,len(arr)）\n",
    "    for i in range(len(arr)-1):#默认从0开始，不需要要写（0，len(arr)-1）\n",
    "        #设最小数的索引为i\n",
    "        minIndex = i\n",
    "        #和i去比较的数是j,j的出始下标是i+1，然后比到这个arr数组的最后\n",
    "        for j in range(i+1,len(arr)):\n",
    "            #如果下标j对应的具体的数小于 i所对应的最小值，就把j的下标赋给这个minIndex,，然后再和i+2进行比对，直到len(arr)，\n",
    "            #找到并记录从（i+1到len(arr)里的最小值的下标）\n",
    "            if arr[j] < arr[minIndex]:\n",
    "                minIndex = j\n",
    "        #如果i的下标和找到整个数组里最小值的下标不一样，将 i 和最小数进行交换。注意：具体挪动位置时，交换的是i和minIndex的具体数而不是下标 \n",
    "        #i 不是最小数时，将 i 和最小数进行交换\n",
    "        if i != minIndex:\n",
    "            #i,minIndex = minIndex, i,下标是不会变的，都是12345\n",
    "            arr[i], arr[minIndex] = arr[minIndex],arr[i]#要把具体的数挪位，下标只是用来确定位置的\n",
    "        \n",
    "    return arr       \n"
   ]
  },
  {
   "cell_type": "code",
   "execution_count": null,
   "id": "19d3f6c3",
   "metadata": {},
   "outputs": [],
   "source": []
  },
  {
   "cell_type": "code",
   "execution_count": 69,
   "id": "3e4f5efa",
   "metadata": {},
   "outputs": [
    {
     "data": {
      "text/plain": [
       "[1, 2, 3, 3, 3, 3, 4, 4, 5, 5, 6, 6, 6]"
      ]
     },
     "execution_count": 69,
     "metadata": {},
     "output_type": "execute_result"
    }
   ],
   "source": [
    "print(arr1)\n",
    "selectionSort(arr1)\n",
    "print(arr1)"
   ]
  },
  {
   "cell_type": "markdown",
   "id": "7635ab23",
   "metadata": {},
   "source": [
    "## 插入排序\n",
    "它的工作原理是通过构建有序序列，对于未排序数据，在已排序序列中从后向前扫描，找到相应位置并插入。\n",
    "\n",
    "插入排序和冒泡排序一样，也有一种优化算法，叫做拆半插入。\n",
    "\n",
    "将第一待排序序列第一个元素看做一个有序序列，把第二个元素到最后一个元素当成是未排序序列。\n",
    "\n",
    "从头到尾依次扫描未排序序列，将扫描到的每个元素插入有序序列的适当位置。（如果待插入的元素与有序序列中的某个元素相等，则将待插入元素插入到相等元素的后面。）"
   ]
  },
  {
   "cell_type": "code",
   "execution_count": 151,
   "id": "15c1e71e",
   "metadata": {},
   "outputs": [],
   "source": [
    "#插入排序\n",
    "arr1 = [6,1,3,4,3,2,4,3,5,3,5,6,6]\n",
    "def insertionSort(arr):\n",
    "   # if(arr == null or arr.length<2):#数组不为空，数组内有2个以上元素\n",
    "      #  return arr\n",
    "    for i in range(1,len(arr)):#0-len(arr),len(arr)都可以？？\n",
    "        preIndex = i-1\n",
    "        current = arr[i]\n",
    "        while preIndex >= 0 and arr[preIndex] > current:\n",
    "            arr[preIndex+1] = arr[preIndex]\n",
    "            preIndex-=1\n",
    "        arr[preIndex+1] = current\n",
    "    return arr"
   ]
  },
  {
   "cell_type": "code",
   "execution_count": 152,
   "id": "b88b20d7",
   "metadata": {},
   "outputs": [
    {
     "name": "stdout",
     "output_type": "stream",
     "text": [
      "[6, 1, 3, 4, 3, 2, 4, 3, 5, 3, 5, 6, 6]\n",
      "[1, 2, 3, 3, 3, 3, 4, 4, 5, 5, 6, 6, 6]\n"
     ]
    }
   ],
   "source": [
    "print(arr1)\n",
    "selectionSort(arr1)\n",
    "print(arr1)"
   ]
  },
  {
   "cell_type": "code",
   "execution_count": 145,
   "id": "ec0a5c67",
   "metadata": {},
   "outputs": [],
   "source": [
    "arr1 = [6,1,3,4,3,2,4,3,5,3,5,6,6]\n",
    "def insertionSort(arr):\n",
    "    #当前到整个数组的循环\n",
    "    for i in range(1,len(arr)):\n",
    "        #比较的是具体的数，current是具体的数，操作和定位的时候需要下标，所以前一个数最好用下标表示\n",
    "        #前一个数的下标 ，\n",
    "        preIndex = i-1\n",
    "        #当前的具体数,这是是个flag,在比较的一轮中不会改变，一直存着，直到遇到左边更小的时候，当前数的下标可以用preIndex+1 来表示\n",
    "        current = arr[i]#这个值取出来，很快它的位置会被前一个较大的数给填上，current只参与比较，但是不交换，直到最后找到合适位置了再放在那个空位上\n",
    "        #当前一个数的下标>=0，并且前一个数大于当前的数\n",
    "        #设置好界限，因为preIndex一直在-1，如果越界就会有异常。\n",
    "        while preIndex >= 0 and arr[preIndex] > current:\n",
    "            #把前一个数的具体数（大的），赋值给当前数（preIndex后一个数），但是呢，要赋给（preIndex+1），而不是current的坐标，因为这个current具体值要留着\n",
    "            #不停的把比较大的数往后一个放，如果前一个数大，把前一个数放到后一个数的位置\n",
    "            arr[preIndex + 1] = arr[preIndex]#往后一个位置放，所以要+1\n",
    "            #比完一个数字后，再往前推一个数，再一次进while循环去验证，去比较，直到到数组最右边preIndex < 或者 arr[preIndex] < current:\n",
    "            preIndex -= 1\n",
    "        #出了while循环后，因为把current的值赋值给arr[preIndex + 1],因为最后一次比较时数值坐标停留在preIndex -= 1，\n",
    "        #然后再进for循环i+1，直到出了len(arr)的范围\n",
    "        arr[preIndex + 1] = current\n",
    "    return arr    \n",
    "            "
   ]
  },
  {
   "cell_type": "code",
   "execution_count": 149,
   "id": "f1154d34",
   "metadata": {},
   "outputs": [],
   "source": []
  },
  {
   "cell_type": "code",
   "execution_count": 150,
   "id": "de8a82ee",
   "metadata": {},
   "outputs": [
    {
     "name": "stdout",
     "output_type": "stream",
     "text": [
      "[6, 1, 3, 4, 3, 2, 4, 3, 5, 3, 5, 6, 6]\n",
      "[1, 2, 3, 3, 3, 3, 4, 4, 5, 5, 6, 6, 6]\n"
     ]
    }
   ],
   "source": []
  },
  {
   "cell_type": "code",
   "execution_count": null,
   "id": "cd7cd80d",
   "metadata": {},
   "outputs": [],
   "source": []
  }
 ],
 "metadata": {
  "kernelspec": {
   "display_name": "Python 3",
   "language": "python",
   "name": "python3"
  },
  "language_info": {
   "codemirror_mode": {
    "name": "ipython",
    "version": 3
   },
   "file_extension": ".py",
   "mimetype": "text/x-python",
   "name": "python",
   "nbconvert_exporter": "python",
   "pygments_lexer": "ipython3",
   "version": "3.8.8"
  }
 },
 "nbformat": 4,
 "nbformat_minor": 5
}
