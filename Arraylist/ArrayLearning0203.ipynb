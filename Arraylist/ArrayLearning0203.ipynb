{
 "cells": [
  {
   "cell_type": "markdown",
   "id": "763443fe",
   "metadata": {},
   "source": [
    "#数组下标都是从0开始的。\n",
    "#数组内存空间的地址是连续的\n",
    "#正是因为数组的在内存空间的地址是连续的，所以我们在删除或者增添元素的时候，就难免要移动其他元素的地址。\n",
    "\n",
    "\n",
    "循环不变量（loop invariant）是一个不变量，被用来证明循环的特点，更多地，算法使用循环(usually 正确性)。 \n",
    "非正式的说，一个循环不变量是指在循环开始和循环中每一次迭代时永远为真的量，这意味着在循环中和循环结束时循环不变量和循环终止条件必须同时成立。\n",
    "## 数是数组内第几个数的时候，A数字前面有几个数，A数字的index就是几"
   ]
  },
  {
   "cell_type": "markdown",
   "id": "a50d82d7",
   "metadata": {},
   "source": [
    "https://github.com/youngyangyang04/leetcode-master/blob/master/problems/0704.%E4%BA%8C%E5%88%86%E6%9F%A5%E6%89%BE.md\n",
    "给定一个 n 个元素有序的（升序）整型数组 nums 和一个目标值 target  ，写一个函数搜索 nums 中的 target，如果目标值存在返回下标，否则返回 -1。\n",
    "\n",
    "示例 1:\n",
    "\n",
    "输入: nums = [-1,0,3,5,9,12], target = 9     \n",
    "输出: 4       \n",
    "解释: 9 出现在 nums 中并且下标为 4     \n",
    "示例 2:\n",
    "\n",
    "输入: nums = [-1,0,3,5,9,12], target = 2     \n",
    "输出: -1        \n",
    "解释: 2 不存在 nums 中因此返回 -1        \n",
    "提示：\n",
    "\n",
    "你可以假设 nums 中的所有元素是不重复的。\n",
    "n 将在 [1, 10000]之间。\n",
    "nums 的每个元素都将在 [-9999, 9999]之间。\n",
    "\n",
    "这道题目的前提是数组为有序数组，同时题目还强调数组中无重复元素，因为一旦有重复元素，使用二分查找法返回的元素下标可能不是唯一的，这些都是使用二分法的前提条件\n",
    "\n",
    "这道题目的前提是数组为有序数组，同时题目还强调数组中无重复元素，因为一旦有重复元素，使用二分查找法返回的元素下标可能不是唯一的，这些都是使用二分法的前提条件，当大家看到题目描述满足如上条件的时候，可要想一想是不是可以用二分法了。\n",
    "\n",
    "二分查找涉及的很多的边界条件，逻辑比较简单，但就是写不好。例如到底是 while(left < right) 还是 while(left <= right)，到底是right = middle呢，还是要right = middle - 1呢？\n",
    "\n",
    "大家写二分法经常写乱，主要是因为对区间的定义没有想清楚，区间的定义就是不变量。要在二分查找的过程中，保持不变量，就是在while寻找中每一次边界的处理都要坚持根据区间的定义来操作，这就是循环不变量规则。"
   ]
  },
  {
   "cell_type": "markdown",
   "id": "694460da",
   "metadata": {},
   "source": [
    "\n",
    "什么是左闭右开[left,right)\n",
    "左闭右闭[left,right]\n",
    "   \n",
    "## 二分查找多用左闭右闭区间， \n",
    "闭是包含，开是不包含\n",
    "        \n",
    "        \n",
    "开区间使用符号小括号()表示，闭区间使用符号中括号[]表示，闭区间包含了两个端点，而开区间则不包含两个端点  \n",
    "        \n",
    "        （a,b）左开右开，不包含a,b\n",
    "        (a,b]左开右闭，不包含a,包含b\n",
    "         [a,b]左闭右闭，包含a,也包含b\n",
    "         [a,b)左闭右开，包含a,不包含b"
   ]
  },
  {
   "cell_type": "markdown",
   "id": "caf51aac",
   "metadata": {},
   "source": [
    "一句话描述：self是类（Class）实例化对象，cls就是类（或子类）本身，取决于调用的是那个类。\n",
    "@staticmethod 属于静态方法装饰器，@classmethod属于类方法装饰器。 \n",
    "我们需要从声明和使用两个方面来理解。 一般来说，要使用某个类的方法，需要先⚠️实例化一个对象再调用方法。"
   ]
  },
  {
   "cell_type": "code",
   "execution_count": 17,
   "id": "955489c0",
   "metadata": {},
   "outputs": [],
   "source": [
    "#List = [1,3,4,5,6,7,8,9]\n",
    "#target = 8\n",
    "#（版本一）左闭右闭区间\n",
    "class Solution:\n",
    "    #这个有点看不懂，这个self是干什么用的呢 public int search(List<Intger> nums, int target);\n",
    "    def search(self, nums, target: int) -> int:\n",
    "        #这种len(nums)-1,就是左闭右闭区间，两边都会取到\n",
    "        left, right = 0, len(nums) - 1\n",
    "        \n",
    "        while left <= right:#！！！要非常注意，是left<=right,left= right是有意义的[left,right]\n",
    "            \n",
    "            middle = left + (right - left) // 2\n",
    "            #和left +(right-left)//2有什么区别吗\n",
    "            #可以看出target比较大，那么还得在右边找，把左边的底线用middle的值替换掉\n",
    "            if nums[middle] < target:\n",
    "                left = middle + 1 #避开middle，避免重复\n",
    "            elif nums[middle] > target:\n",
    "                right = middle - 1#，找左边，把右边的边界避开middle，避免重复\n",
    "            else:\n",
    "                 #因为如果middle ==target 会直接返回，所以取左右两边的时候可以避开middle，left = middle +1,right = middle -1\n",
    "                self.printff(middle)\n",
    "                return middle\n",
    "            #跳出循环的终止条件是L>R,空区间\n",
    "        self.printff(-1)\n",
    "        return -1\n",
    "    \n",
    "    def printff(self, indx: int):\n",
    "        print(\"result is \", indx)\n",
    "        \n",
    "\n"
   ]
  },
  {
   "cell_type": "code",
   "execution_count": 21,
   "id": "b4bcb516",
   "metadata": {},
   "outputs": [
    {
     "name": "stdout",
     "output_type": "stream",
     "text": [
      "result is  0\n"
     ]
    },
    {
     "data": {
      "text/plain": [
       "0"
      ]
     },
     "execution_count": 21,
     "metadata": {},
     "output_type": "execute_result"
    }
   ],
   "source": [
    " s = Solution()\n",
    "s.search([2, 8, 23, 234, 234545, 2323545], 2)"
   ]
  },
  {
   "cell_type": "code",
   "execution_count": 31,
   "id": "ebc9da72",
   "metadata": {},
   "outputs": [],
   "source": [
    "class Solution2:\n",
    "    def search(self, nums, target: int) -> int:\n",
    "        left, right = 0, len(nums)-1\n",
    "        while left <= right:\n",
    "            mid = left + (right-left) // 2\n",
    "            if nums[mid] == target:\n",
    "                return mid\n",
    "            elif nums[mid] < target:\n",
    "                left = mid + 1\n",
    "            else:\n",
    "                right = mid - 1\n",
    "            print(mid)\n",
    "        return -1\n",
    "            "
   ]
  },
  {
   "cell_type": "code",
   "execution_count": 32,
   "id": "5ff95431",
   "metadata": {},
   "outputs": [
    {
     "name": "stdout",
     "output_type": "stream",
     "text": [
      "2\n",
      "4\n"
     ]
    },
    {
     "data": {
      "text/plain": [
       "3"
      ]
     },
     "execution_count": 32,
     "metadata": {},
     "output_type": "execute_result"
    }
   ],
   "source": [
    "s2 = Solution2()\n",
    "a=[2, 8, 23, 234, 234545, 2323545]\n",
    "s2.search(a , 234)"
   ]
  },
  {
   "cell_type": "code",
   "execution_count": null,
   "id": "60f0d9c0",
   "metadata": {},
   "outputs": [],
   "source": [
    "s = Solution()\n",
    "s.search([2, 8, 23, 234, 234545, 2323545], 2)"
   ]
  },
  {
   "cell_type": "markdown",
   "id": "557f5bb9",
   "metadata": {},
   "source": [
    "## if 和 elif 的区别"
   ]
  },
  {
   "cell_type": "code",
   "execution_count": null,
   "id": "c99e741b",
   "metadata": {},
   "outputs": [],
   "source": [
    "num = 8\n",
    "\n",
    "if num > 3:\n",
    "    print (\"num > 3\")\n",
    "elif num > 5:\n",
    "    print(\"num > 5\")\n",
    "else:\n",
    "    print(num)\n",
    "    #more examples\n",
    "    #elif,else 都是属于 if语句里的，进入了一个就不会进另一个\n"
   ]
  },
  {
   "cell_type": "code",
   "execution_count": null,
   "id": "86b5df21",
   "metadata": {},
   "outputs": [],
   "source": [
    "num = 8\n",
    "if num > 3:\n",
    "    print (\"num >3\")\n",
    "    \n",
    "if num > 5:\n",
    "    print(\"num > 5\")\n",
    "else:\n",
    "    print(num)\n",
    "    # if 语句是单独的，两个都会进，else是属于第二个语句里的"
   ]
  },
  {
   "cell_type": "code",
   "execution_count": null,
   "id": "9f27efd8",
   "metadata": {},
   "outputs": [],
   "source": [
    "#左闭右开区间,一般不用这个\n",
    "class Solution:\n",
    "    def search(self, nums, target: int) -> int:\n",
    "        left,right  =0, len(nums)#这个right是不能取到的，所以是开区间，[left,right)\n",
    "        while left < right:\n",
    "            mid = (left + right) // 2\n",
    "            if nums[mid] < target:#target在右区间中，[middle+1,right)\n",
    "                left = mid+1\n",
    "            elif nums[mid] > target: #target在左区间里[left,middle)中，因为取不到，所以不用-1\n",
    "                right = mid\n",
    "            else:\n",
    "                return mid\n",
    "        return -1"
   ]
  },
  {
   "cell_type": "code",
   "execution_count": 1,
   "id": "89010b6e",
   "metadata": {},
   "outputs": [
    {
     "data": {
      "text/plain": [
       "-1"
      ]
     },
     "execution_count": 1,
     "metadata": {},
     "output_type": "execute_result"
    }
   ],
   "source": [
    "A =[1,2,3,4,5,8,12]\n",
    "#search(8) = 5,search(6) = -1\n",
    "\n",
    "\n",
    "def binary_search(Af,val,l,r):\n",
    "    while l <= r:\n",
    "        m = l + (r - l)//2\n",
    "        if A[m] == val :\n",
    "            return m\n",
    "        if A[m] > val:#如果中间的数大于target，那么这个数在左边，把最右边的数，替换成中间数，\n",
    "            #target 更小，就在左边找\n",
    "            r = m - 1\n",
    "        else:#target 更大就在右边找 \n",
    "            l = m + 1\n",
    "            #如果选定的中间数小于target\n",
    "    return -1 #not found\n",
    "        \n",
    "binary_search(A,8,0,3)  #左闭          \n",
    "        "
   ]
  },
  {
   "cell_type": "markdown",
   "id": "7ec023c4",
   "metadata": {},
   "source": [
    "## 移除元素"
   ]
  },
  {
   "cell_type": "code",
   "execution_count": null,
   "id": "ffcc294a",
   "metadata": {},
   "outputs": [],
   "source": [
    "给你一个数组 nums 和一个值 val，你需要 原地 移除所有数值等于 val 的元素，并返回移除后数组的新长度。\n",
    "\n",
    "不要使用额外的数组空间，你必须仅使用 $O(1)$ 额外空间并原地修改输入数组。\n",
    "\n",
    "元素的顺序可以改变。你不需要考虑数组中超出新长度后面的元素。\n",
    "\n",
    "示例 1: 给定 nums = [3,2,2,3], val = 3, 函数应该返回新的长度 2, 并且 nums 中的前两个元素均为 2。 你不需要考虑数组中超出新长度后面的元素。\n",
    "\n",
    "示例 2: 给定 nums = [0,1,2,2,3,0,4,2], val = 2, 函数应该返回新的长度 5, 并且 nums 中的前五个元素为 0, 1, 3, 0, 4。\n",
    "\n",
    "你不需要考虑数组中超出新长度后面的元素。\n",
    "\n"
   ]
  },
  {
   "cell_type": "markdown",
   "id": "60083df6",
   "metadata": {},
   "source": [
    "## 双指针，标准解"
   ]
  },
  {
   "cell_type": "code",
   "execution_count": 56,
   "id": "50079a90",
   "metadata": {},
   "outputs": [],
   "source": [
    "\n",
    "class SolutionRemove:\n",
    "    \"\"\"双指针法\n",
    "    时间复杂度：O(n)\n",
    "    空间复杂度：O(1)\n",
    "    \"\"\"\n",
    "    @classmethod\n",
    "    def removeElement(cls, nums, val):\n",
    "        fast = slow = 0\n",
    "        while fast < len(nums):\n",
    "\n",
    "            if nums[fast] != val:\n",
    "                nums[slow] = nums[fast]\n",
    "                #因为当前的fast的“值”赋给当前的slow,所以slow index ++，为下一次被赋值做好准备\n",
    "                slow += 1\n",
    "                print(\"slow is \", slow)\n",
    "            # 当 fast 指针遇到要删除的元素时停止赋值\n",
    "            # slow 指针停止移动, fast 指针继续前进\n",
    "            #fast写在if的条件外，while条件里，因为它只要小于nums长度就要++\n",
    "            fast += 1\n",
    "            print(\"fast is \",fast)\n",
    "            \n",
    "        cls.printMethod(slow)\n",
    "        return slow\n",
    "    \n",
    "    def printMethod(index):\n",
    "        print(\"index is\" , index)\n",
    "    "
   ]
  },
  {
   "cell_type": "code",
   "execution_count": 57,
   "id": "a6f107b7",
   "metadata": {},
   "outputs": [
    {
     "name": "stdout",
     "output_type": "stream",
     "text": [
      "slow is  1\n",
      "fast is  1\n",
      "slow is  2\n",
      "fast is  2\n",
      "fast is  3\n",
      "slow is  3\n",
      "fast is  4\n",
      "fast is  5\n",
      "fast is  6\n",
      "slow is  4\n",
      "fast is  7\n",
      "fast is  8\n",
      "slow is  5\n",
      "fast is  9\n",
      "slow is  6\n",
      "fast is  10\n",
      "slow is  7\n",
      "fast is  11\n",
      "index is 7\n"
     ]
    },
    {
     "data": {
      "text/plain": [
       "7"
      ]
     },
     "execution_count": 57,
     "metadata": {},
     "output_type": "execute_result"
    }
   ],
   "source": [
    "rm = SolutionRemove()\n",
    "rm.removeElement([1,2,3,4,3,3,5,3,6,7,8],3)"
   ]
  },
  {
   "cell_type": "markdown",
   "id": "2072e55c",
   "metadata": {},
   "source": [
    "## 双指针方法1"
   ]
  },
  {
   "cell_type": "code",
   "execution_count": 94,
   "id": "3c8884e4",
   "metadata": {},
   "outputs": [],
   "source": [
    "\n",
    "class Solution:\n",
    "    def removeElementdouble(cls, nums, val):\n",
    "        fast = slow = 0\n",
    "        while fast < len(nums):\n",
    "\n",
    "            if nums[fast] != val:\n",
    "                nums[slow] = nums[fast]\n",
    "                slow += 1\n",
    "            fast += 1\n",
    "\n",
    "        return slow"
   ]
  },
  {
   "cell_type": "code",
   "execution_count": 95,
   "id": "12d4c413",
   "metadata": {},
   "outputs": [
    {
     "data": {
      "text/plain": [
       "7"
      ]
     },
     "execution_count": 95,
     "metadata": {},
     "output_type": "execute_result"
    }
   ],
   "source": [
    "rm = Solution()\n",
    "rm.removeElementdouble([1,2,3,4,3,3,5,3,6,7,8],3)"
   ]
  },
  {
   "cell_type": "markdown",
   "id": "7868b281",
   "metadata": {},
   "source": [
    "## 双指针方法 2"
   ]
  },
  {
   "cell_type": "code",
   "execution_count": 90,
   "id": "f4971fd5",
   "metadata": {},
   "outputs": [],
   "source": [
    "class Solution:\n",
    "    def removeElement3(self, nums, val):\n",
    "        start, end = 0, len(nums) - 1\n",
    "        while start <= end:\n",
    "            if nums[start] == val:\n",
    "                \n",
    "                nums[start], nums[end], end = nums[end], nums[start], end - 1\n",
    "            else:\n",
    "                start +=1\n",
    "        return start"
   ]
  },
  {
   "cell_type": "code",
   "execution_count": 91,
   "id": "760cd489",
   "metadata": {},
   "outputs": [
    {
     "data": {
      "text/plain": [
       "7"
      ]
     },
     "execution_count": 91,
     "metadata": {},
     "output_type": "execute_result"
    }
   ],
   "source": [
    "rm = Solution()\n",
    "rm.removeElement3([1,2,3,4,3,3,5,3,6,7,8],3)"
   ]
  },
  {
   "cell_type": "code",
   "execution_count": 111,
   "id": "1ad88399",
   "metadata": {},
   "outputs": [],
   "source": [
    "class Solution3:\n",
    "    def removeElement4(self,nums,val):\n",
    "        start,end = 0, len(nums)-1\n",
    "        while start <= end:\n",
    "            if nums[start] == val:\n",
    "                nums[start],nums[end],end=nums[end],nums[start],end-1\n",
    "            else:\n",
    "                start += 1\n",
    "        return start        "
   ]
  },
  {
   "cell_type": "code",
   "execution_count": 112,
   "id": "43f6f497",
   "metadata": {},
   "outputs": [
    {
     "data": {
      "text/plain": [
       "7"
      ]
     },
     "execution_count": 112,
     "metadata": {},
     "output_type": "execute_result"
    }
   ],
   "source": [
    "rm = Solution3()\n",
    "rm.removeElement4([1,2,3,4,3,3,5,3,6,7,8],3)"
   ]
  },
  {
   "cell_type": "markdown",
   "id": "da041eaa",
   "metadata": {},
   "source": [
    "## 单指针法，暴力解"
   ]
  },
  {
   "cell_type": "code",
   "execution_count": 63,
   "id": "f8905bc0",
   "metadata": {},
   "outputs": [],
   "source": []
  },
  {
   "cell_type": "code",
   "execution_count": 64,
   "id": "afcf89b3",
   "metadata": {},
   "outputs": [
    {
     "data": {
      "text/plain": [
       "7"
      ]
     },
     "execution_count": 64,
     "metadata": {},
     "output_type": "execute_result"
    }
   ],
   "source": [
    "rm.removeElement([1,2,3,4,3,3,5,3,6,7,8],3)"
   ]
  },
  {
   "cell_type": "code",
   "execution_count": 80,
   "id": "b1f79e2b",
   "metadata": {},
   "outputs": [],
   "source": [
    "class Solution2:\n",
    "    def removeElement2(self,nums,val):\n",
    "        i = 0\n",
    "        for x in nums:# x 是具体的元素 \n",
    "            print(x)\n",
    "            if x != val:\n",
    "                nums[i] = x\n",
    "                i += 1\n",
    "        return i         "
   ]
  },
  {
   "cell_type": "code",
   "execution_count": 81,
   "id": "ecbbd8ee",
   "metadata": {},
   "outputs": [
    {
     "name": "stdout",
     "output_type": "stream",
     "text": [
      "1\n",
      "2\n",
      "3\n",
      "4\n",
      "3\n",
      "3\n",
      "5\n",
      "3\n",
      "6\n",
      "7\n",
      "8\n"
     ]
    },
    {
     "data": {
      "text/plain": [
       "7"
      ]
     },
     "execution_count": 81,
     "metadata": {},
     "output_type": "execute_result"
    }
   ],
   "source": [
    "rm2 = Solution2()\n",
    "rm2.removeElement2([1,2,3,4,3,3,5,3,6,7,8],3)"
   ]
  },
  {
   "cell_type": "markdown",
   "id": "4baf34e3",
   "metadata": {},
   "source": [
    "## leetcode 66 ## add one\n",
    "\n",
    "Input: digits = [1,2,3]\n",
    "\n",
    "Output: [1,2,4]\n",
    "\n",
    "\n",
    "\n",
    "Input: digits = [4,3,2,1]\n",
    "\n",
    "Output: [4,3,2,2]\n",
    "\n",
    "Explanation: The array represents the integer 4321.\n",
    "\n",
    "Incrementing by one gives 4321 + 1 = 4322.\n",
    "\n",
    "Thus, the result should be [4,3,2,2].\n",
    "\n",
    "\n",
    "\n",
    "Input: digits = [9]\n",
    "\n",
    "Output: [1,0]\n",
    "\n",
    "\n",
    "Explanation: The array represents the integer 9.\n",
    "\n",
    "Incrementing by one gives 9 + 1 = 10.\n",
    "\n",
    "Thus, the result should be [1,0]."
   ]
  },
  {
   "cell_type": "code",
   "execution_count": 122,
   "id": "3dd6828d",
   "metadata": {},
   "outputs": [],
   "source": [
    "class Solution:\n",
    "    def plusOne(self, digits, target):\n",
    "        for i in reversed(range(len(digits))):\n",
    "            if digits[i] == 9:\n",
    "                digits[i] = 0\n",
    "            else:\n",
    "                digits[i]+=1\n",
    "                return digits\n",
    "        digits[0] = 1\n",
    "        digits.append(0)\n",
    "        return digits"
   ]
  },
  {
   "cell_type": "code",
   "execution_count": 129,
   "id": "2a252542",
   "metadata": {},
   "outputs": [
    {
     "name": "stdout",
     "output_type": "stream",
     "text": [
      "[1, 0, 0, 0, 0]\n",
      "[1, 3, 5, 7]\n"
     ]
    }
   ],
   "source": [
    "so = Solution()\n",
    "print(so.plusOne([9,9,9,9],1))\n",
    "print(so.plusOne([1,3,5,6], [1,3,5,6],1))"
   ]
  },
  {
   "cell_type": "code",
   "execution_count": 131,
   "id": "5346c97d",
   "metadata": {},
   "outputs": [],
   "source": [
    "class Solutionaddone:\n",
    "     def addone(self,digits,target):\n",
    "            #reversed得会拼啊\n",
    "        for i in reversed(range(len(digits))):\n",
    "            if digits[i] == 9:\n",
    "                #注意啊！只有一个等于号，这个是赋值\n",
    "                digits[i] = 0\n",
    "            else:\n",
    "                digits[i] += 1\n",
    "                return digits\n",
    "            #如果一直都进if,从来没有进else,那么就说明全是9，就把最开头改成1，然后加0\n",
    "            digits[0]= 1\n",
    "            digits.append(0)\n",
    "            return digits\n",
    "        \n",
    "#最重要是从后往前输出        \n",
    "#[9,9,9,9]只有全部都是9的时候，才会在循环之后进入这一步digits[0]= 1， digits.append(0)\n",
    "#[2,9,8,9] 只要任意一位不是9，就可以在这一位+1然后返回            "
   ]
  },
  {
   "cell_type": "code",
   "execution_count": null,
   "id": "eb1cff36",
   "metadata": {},
   "outputs": [],
   "source": [
    "class Solution:\n",
    "    def sortedSquares(self, nums: List[int]) -> List[int]:\n",
    "        n = len(nums)\n",
    "        i,j,k = 0,n - 1,n - 1\n",
    "        ans = [-1] * n\n",
    "        while i <= j:\n",
    "            lm = nums[i] ** 2\n",
    "            rm = nums[j] ** 2\n",
    "            if lm > rm:\n",
    "                ans[k] = lm\n",
    "                i += 1\n",
    "            else:\n",
    "                ans[k] = rm\n",
    "                j -= 1\n",
    "            k -= 1\n",
    "        return ans"
   ]
  },
  {
   "cell_type": "markdown",
   "id": "70dcc223",
   "metadata": {},
   "source": [
    "## 977.有序数组的平方\n",
    "\n",
    "https://leetcode.com/problems/squares-of-a-sorted-array/\n",
    "    \n",
    "给你一个按 非递减顺序 排序的整数数组 nums，返回 每个数字的平方 组成的新数组，要求也按 非递减顺序 排序。\n",
    "\n",
    "示例 1： 输入：nums = [-4,-1,0,3,10] 输出：[0,1,9,16,100] 解释：平方后，数组变为 [16,1,0,9,100]，排序后，数组变为 [0,1,9,16,100]\n",
    "\n",
    "示例 2： 输入：nums = [-7,-3,2,3,11] 输出：[4,9,9,49,121]\n",
    "\n",
    "'''\n",
    "### 因为数组是有序的，只不过负数平方过后可能成为最大的数了，但是不会从中间成为最大的数，不会乱掉\n",
    "\n",
    "那么数组平方的最大值就在数组的两端，不是最左边就是最右边，不可能是中间。\n",
    "\n",
    "### 我们是不能知道哪个最小，但是可以知道哪个最大 ，然后倒序排列就可以\n",
    "\n",
    "\n",
    "所以使用双指针算法\n",
    "\n",
    "i指向起始位置，j指向终止位置。\n",
    "\n",
    "定义一个新数组result，和A数组一样的大小，让k指向result数组终止位置。\n",
    "'''"
   ]
  },
  {
   "cell_type": "code",
   "execution_count": 30,
   "id": "403ff0e5",
   "metadata": {},
   "outputs": [],
   "source": [
    "\n",
    "class Solution:\n",
    "    def sortedSquares(self, nums):\n",
    "        #get the len of the nums\n",
    "        n = len(nums)\n",
    "        print(n)\n",
    "        #i= left,j = right,k= new array indexing right,reversed\n",
    "        i,j,k = 0,n - 1,n - 1\n",
    "        #先把数组设成[-1,-1,....-1]\n",
    "        ans = [-1] * n\n",
    "        #闭区间 <=,双指针一定有这个条件\n",
    "        while i <= j:\n",
    "            #记住平方的写法\n",
    "            lm = nums[i] ** 2\n",
    "            rm = nums[j] ** 2\n",
    "            if lm > rm:\n",
    "                ans[k] = lm\n",
    "                i += 1\n",
    "            else:\n",
    "                ans[k] = rm\n",
    "                j -= 1\n",
    "            k -= 1\n",
    "        return ans"
   ]
  },
  {
   "cell_type": "code",
   "execution_count": 34,
   "id": "d6d3b46b",
   "metadata": {},
   "outputs": [
    {
     "name": "stdout",
     "output_type": "stream",
     "text": [
      "5\n",
      "[0, 0, 0, 0, 1]\n",
      "5\n",
      "[4, 16, 25, 49, 81]\n",
      "6\n",
      "[4, 9, 16, 25, 36, 49]\n",
      "6\n",
      "[3025, 9801, 1000000, 100000000, 1194048025, 999998000001]\n"
     ]
    }
   ],
   "source": [
    "so = Solution()\n",
    "print(so.sortedSquares([0,0,0,0,1]))\n",
    "print(so.sortedSquares([-9,-7,-5,-4,-2]))\n",
    "print(so.sortedSquares([2,3,4,5,6,7]))\n",
    "print(so.sortedSquares([-10000,55,99,1000,34555,999999]))"
   ]
  },
  {
   "cell_type": "code",
   "execution_count": 28,
   "id": "f414f2bc",
   "metadata": {},
   "outputs": [
    {
     "name": "stdout",
     "output_type": "stream",
     "text": [
      "9\n",
      "27\n"
     ]
    }
   ],
   "source": [
    "#写平方和立方\n",
    "i = 3\n",
    "lm = i ** 2\n",
    "print(lm)\n",
    "lm= i**3\n",
    "print(lm)"
   ]
  },
  {
   "cell_type": "code",
   "execution_count": 24,
   "id": "b4c1859a",
   "metadata": {},
   "outputs": [],
   "source": [
    "class Solutionpracrice:\n",
    "    def sortSquares(self,nums):\n",
    "        #双指针\n",
    "        n = len(nums)\n",
    "        newn=[-1]*n\n",
    "        i,j = 0,len(nums)-1\n",
    "        k = len(nums)-1\n",
    "        while i <= j:\n",
    "            isquare = nums[i]**2\n",
    "            jsquare = nums[j]**2\n",
    "            if isquare > jsquare:\n",
    "                newn[k] = isquare\n",
    "                i += 1\n",
    "            else:\n",
    "                newn[k]=jsquare\n",
    "                j-=1\n",
    "            k-=1\n",
    "        return  newn\n",
    "            \n",
    "        "
   ]
  },
  {
   "cell_type": "code",
   "execution_count": 27,
   "id": "c908446a",
   "metadata": {},
   "outputs": [
    {
     "name": "stdout",
     "output_type": "stream",
     "text": [
      "[0, 1, 1, 4, 9, 9, 16, 36, 49, 81]\n"
     ]
    }
   ],
   "source": [
    "so1 = Solutionpracrice()\n",
    "print(so1.sortSquares([-6,-3,-1,0,1,2,3,4,7,9]))\n",
    "# print(so1.sortedSquares([-6,-3,-1,0,1,2,3,4,7,9])"
   ]
  },
  {
   "cell_type": "code",
   "execution_count": 9,
   "id": "a4bb8d89",
   "metadata": {},
   "outputs": [
    {
     "name": "stdout",
     "output_type": "stream",
     "text": [
      "10\n",
      "[0, 1, 1, 4, 9, 9, 16, 36, 49, 81]\n"
     ]
    }
   ],
   "source": [
    "so1 = Solution\n",
    "print(so1.sortedSquares([-6,-3,-1,0,1,2,3,4,7,9],[-6,-3,-1,0,1,2,3,4,7,9]))"
   ]
  },
  {
   "cell_type": "code",
   "execution_count": null,
   "id": "b20f04d6",
   "metadata": {},
   "outputs": [],
   "source": [
    "\n",
    "class Solution:\n",
    "    def sortedSquares(self, nums: List[int]) -> List[int]:\n",
    "        n = len(nums)\n",
    "        i,j,k = 0,n - 1,n - 1\n",
    "        ans = [-1] * n\n",
    "        while i <= j:\n",
    "            lm = nums[i] ** 2\n",
    "            rm = nums[j] ** 2\n",
    "            if lm > rm:\n",
    "                ans[k] = lm\n",
    "                i += 1\n",
    "            else:\n",
    "                ans[k] = rm\n",
    "                j -= 1\n",
    "            k -= 1\n",
    "        return ans"
   ]
  },
  {
   "cell_type": "code",
   "execution_count": 46,
   "id": "b4fabf64",
   "metadata": {},
   "outputs": [],
   "source": [
    "\n",
    "class Solution:\n",
    "    def sortSquare2(self,nums):\n",
    "        left,right = 0,len(nums)-1\n",
    "        k = len(nums)-1\n",
    "        n = len(nums)\n",
    "        nlist = [-1]*n\n",
    "        while left <= right:\n",
    "            \n",
    "            if nums[left]*nums[left] > nums[right]*nums[right]:\n",
    "                nlist[k] = nums[left]*nums[left]\n",
    "                left += 1\n",
    "            else:\n",
    "                nlist[k] = nums[right]*nums[right]\n",
    "                right -= 1\n",
    "            k -= 1 \n",
    "            \n",
    "        return nlist \n",
    "            "
   ]
  },
  {
   "cell_type": "code",
   "execution_count": 47,
   "id": "37123576",
   "metadata": {},
   "outputs": [
    {
     "name": "stdout",
     "output_type": "stream",
     "text": [
      "[0, 0, 0, 0, 1]\n",
      "[4, 16, 25, 49, 81]\n",
      "[4, 9, 16, 25, 36, 49]\n",
      "[3025, 9801, 1000000, 100000000, 1194048025, 999998000001]\n"
     ]
    }
   ],
   "source": [
    "so = Solution()\n",
    "print(so.sortSquare2([0,0,0,0,1]))\n",
    "print(so.sortSquare2([-9,-7,-5,-4,-2]))\n",
    "print(so.sortSquare2([2,3,4,5,6,7]))\n",
    "print(so.sortSquare2([-10000,55,99,1000,34555,999999]))"
   ]
  },
  {
   "cell_type": "markdown",
   "id": "786415d9",
   "metadata": {},
   "source": [
    "## 977.有序数组的平方，方法二"
   ]
  },
  {
   "cell_type": "markdown",
   "id": "538d3330",
   "metadata": {},
   "source": [
    "\n",
    "is easier to code up because we can initialize\n",
    "left and right pointerss all the way at the edges of the array\n",
    "and just compare these two values which one \n",
    "\n",
    "squaring a negative 4,把-4开平方\n",
    "\n",
    "initializing our left and right pointers all the way at the left side,and all the way at the right side\n",
    "\n",
    "the way were initially trying to  build our result  was basically find the smallest number ,the next smallest number\n",
    "how about we actually build it in reverse order \n",
    "we find the largest value and then the next largest value and then the next largest  \n"
   ]
  },
  {
   "cell_type": "code",
   "execution_count": 52,
   "id": "0afffa3c",
   "metadata": {},
   "outputs": [],
   "source": [
    "\n",
    "class Solution:\n",
    "    def sortedSquares3(self,nums):\n",
    "        res = []\n",
    "        #initializing our left and right pointers all the way at the left side,and all the way at the right side\n",
    "        \n",
    "       # we can put the left and right pointers all the way at the edges of the array\n",
    "        left,right= 0,len(nums)-1\n",
    "        #while the pinters have not crossed each other\n",
    "        #so while left is less than or equal to the right pointer\n",
    "\n",
    "        while left <=right:\n",
    "            #and just compare these two values, which one of these  squared is going to be larger \n",
    "            if nums[left]*nums[left] > nums[right]*nums[right]:\n",
    "                #add the left number to the array \n",
    "                res.append(nums[left]*nums[left])\n",
    "                \n",
    "           #increment our left pointer\n",
    "                left +=1\n",
    "            \n",
    "           #and the else case  is just going to be the exact opposite\n",
    "            else:   \n",
    "                res.append(nums[right]*nums[right])\n",
    "                right -= 1\n",
    "        return  res[::-1]     #reverse"
   ]
  },
  {
   "cell_type": "code",
   "execution_count": 53,
   "id": "80d7be44",
   "metadata": {},
   "outputs": [
    {
     "name": "stdout",
     "output_type": "stream",
     "text": [
      "[0, 0, 0, 0, 1]\n",
      "[4, 16, 25, 49, 81]\n",
      "[4, 9, 16, 25, 36, 49]\n",
      "[3025, 9801, 1000000, 100000000, 1194048025, 999998000001]\n"
     ]
    }
   ],
   "source": [
    "so = Solution()\n",
    "print(so.sortedSquares3([0,0,0,0,1]))\n",
    "print(so.sortedSquares3([-9,-7,-5,-4,-2]))\n",
    "print(so.sortedSquares3([2,3,4,5,6,7]))\n",
    "print(so.sortedSquares3([-10000,55,99,1000,34555,999999]))"
   ]
  },
  {
   "cell_type": "markdown",
   "id": "52f50fb0",
   "metadata": {},
   "source": [
    "## 209 minimum Size Subarray Sum"
   ]
  },
  {
   "cell_type": "markdown",
   "id": "c7b083fc",
   "metadata": {},
   "source": [
    "## 滑动窗口 sliding window\n",
    "\n",
    "本题中实现滑动窗口，主要确定如下三点：\n",
    "\n",
    "窗口内是什么？\n",
    "如何移动窗口的起始位置？\n",
    "如何移动窗口的结束位置？\n",
    "\n",
    "窗口就是 满足其和 ≥ s 的长度最小的 连续 子数组。\n",
    "\n",
    "窗口的起始位置如何移动：如果当前窗口的值大于s了，窗口就要向前移动了（也就是该缩小了）。\n",
    "\n",
    "窗口的结束位置如何移动：窗口的结束位置就是遍历数组的指针，窗口的起始位置设置为数组的起始位置就可以了。\n",
    "\n",
    "解题的关键在于 窗口的起始位置如何移动，如图所示：\n",
    "\n",
    "重要两步：\n",
    "1.先看能不能满足加和等于target条件\n",
    "2.符合条件后，再用while循环，来试着从左边开始减少元素个数，从而得到最小的数组长度\n",
    "\n",
    "https://www.youtube.com/watch?v=aYqYMIqZx5s&ab_channel=NeetCode"
   ]
  },
  {
   "cell_type": "code",
   "execution_count": 3,
   "id": "10d0b1c5",
   "metadata": {},
   "outputs": [],
   "source": [
    "class Solution:\n",
    "    def minSubArrayLen(self, s, nums):\n",
    "        # 定义一个无限大的数\n",
    "        res = float(\"inf\")\n",
    "        #滑动窗口数值之和\n",
    "        Sum = 0\n",
    "        #滑动窗口起始位置\n",
    "        index = 0\n",
    "        \n",
    "        for i in range(len(nums)):\n",
    "            Sum += nums[i]\n",
    "            while Sum >= s:\n",
    "                #看这个无限大的数和这个数组区间谁更小，取子序列的长度,把上次和这次的res，\n",
    "                #i-index +1,这个是取子序列的长度，res每次比较两次的长度，取最小的值\n",
    "               # res= result < sublength ? result :sublenth\n",
    "                res = min(res, i-index+1)\n",
    "                #尝试着减去左边指针所对应的数，把窗口缩小，来验算满不满足while sum >= s\n",
    "                Sum -= nums[index]\n",
    "                #左边++，缩小窗口\n",
    "                index += 1\n",
    "        return 0 if res==float(\"inf\") else res"
   ]
  },
  {
   "cell_type": "code",
   "execution_count": 34,
   "id": "d7a8bdd5",
   "metadata": {},
   "outputs": [],
   "source": [
    "class Solution:\n",
    "    def minSubArrayLen(self, target, nums) -> int:\n",
    "        #total 是每个数的加和，看看是否达到target\n",
    "        #left是nums的indexing，当total满足>=target的时候\n",
    "        left,total = 0,0\n",
    "        #res是要输出的结果，定义一个无限大的数，或者是nums的len(nums)+1,这样在后面的比较里面不会被随意替换掉\n",
    "        #在整个数组loop完之后还没有被替换掉，就是没有找到\n",
    "        res = float(\"inf\")\n",
    "        #right是每次取数组的下标，然后把它加进total里\n",
    "        for right in range(len(nums)):\n",
    "            #进去以后先把每个数加到total里\n",
    "            total += nums[right]\n",
    "            #每次加每次加，加到这个total >=target了\n",
    "            while total >= target:\n",
    "                #先记录这个res\n",
    "                #right是不停的往前走的，left是符合条件了再去缩窗口\n",
    "                #right- left + 1这个是计算子集的长度，选取最短的\n",
    "                res = min(res, right - left+1)\n",
    "            #\n",
    "                total = total - nums[left]\n",
    "                left +=1\n",
    "                #小心是==,检验是否是，不是赋值的=,else不用写冒号，也不用再写return\n",
    "        return 0 if res == float(\"inf\") else res     \n",
    "            \n",
    "        #一会print一下res"
   ]
  },
  {
   "cell_type": "code",
   "execution_count": 30,
   "id": "19222999",
   "metadata": {},
   "outputs": [
    {
     "name": "stdout",
     "output_type": "stream",
     "text": [
      "2\n"
     ]
    }
   ],
   "source": [
    "target = 8\n",
    "nums = [2,1,5,1,3,4,5]\n",
    "so = Solution()\n",
    "print(so.minSubArrayLen(target,nums))"
   ]
  },
  {
   "cell_type": "code",
   "execution_count": 43,
   "id": "39c5a6d8",
   "metadata": {},
   "outputs": [],
   "source": [
    "class Solution:\n",
    "    def lessLenthArray(self,target,nums):\n",
    "        res = float(\"inf\")\n",
    "        total = 0\n",
    "        index = 0\n",
    "        for i in range(len(nums)):\n",
    "            total += nums[i]\n",
    "            while total >= target:\n",
    "                res = min(res,i- index +1)\n",
    "                total -= nums[index]\n",
    "                index +=1 \n",
    "        return res if res != float(\"inf\") else 0        "
   ]
  },
  {
   "cell_type": "code",
   "execution_count": 49,
   "id": "aeb09bae",
   "metadata": {},
   "outputs": [
    {
     "name": "stdout",
     "output_type": "stream",
     "text": [
      "2\n",
      "0\n",
      "1\n",
      "1\n"
     ]
    }
   ],
   "source": [
    "target = 8\n",
    "arr = [2,1,5,1,3,4,5]\n",
    "so = Solution()\n",
    "print(so.lessLenthArray(target,nums))\n",
    "target = 1000\n",
    "arr = [2,1,5,1,3,4,5]\n",
    "print( so.lessLenthArray(target,nums))\n",
    "target = 1\n",
    "arr = [0,1,5,1,3,4,5]\n",
    "print( so.lessLenthArray(target,nums))\n",
    "target = 4\n",
    "arr = [2,1,3,1000,3,4,5]\n",
    "print( so.lessLenthArray(target,nums))\n"
   ]
  },
  {
   "cell_type": "code",
   "execution_count": 72,
   "id": "dacd1668",
   "metadata": {},
   "outputs": [],
   "source": [
    "class Solution:\n",
    "    def findDuplicateNumber(self,nums):\n"
   ]
  },
  {
   "cell_type": "code",
   "execution_count": 69,
   "id": "a077ed66",
   "metadata": {},
   "outputs": [
    {
     "name": "stdout",
     "output_type": "stream",
     "text": [
      "[]\n"
     ]
    }
   ],
   "source": [
    "nums = [1,2,3,2,4,5,5,2]\n",
    "so = Solution()\n",
    "print(so.findDuplicateNumber(nums))"
   ]
  },
  {
   "cell_type": "code",
   "execution_count": null,
   "id": "db9e3cf9",
   "metadata": {},
   "outputs": [],
   "source": []
  }
 ],
 "metadata": {
  "kernelspec": {
   "display_name": "Python 3",
   "language": "python",
   "name": "python3"
  },
  "language_info": {
   "codemirror_mode": {
    "name": "ipython",
    "version": 3
   },
   "file_extension": ".py",
   "mimetype": "text/x-python",
   "name": "python",
   "nbconvert_exporter": "python",
   "pygments_lexer": "ipython3",
   "version": "3.8.8"
  }
 },
 "nbformat": 4,
 "nbformat_minor": 5
}
