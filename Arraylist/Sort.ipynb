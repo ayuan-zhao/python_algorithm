{
 "cells": [
  {
   "cell_type": "markdown",
   "id": "fcfc7694",
   "metadata": {},
   "source": [
    "## 冒泡排序（Bubble Sort）\n",
    "也是一种简单直观的排序算法。它重复地走访过要排序的数列，一次比较两个元素，如果他们的顺序错误就把他们交换过来。走访数列的工作是重复地进行直到没有再需要交换，也就是说该数列已经排序完成。这个算法的名字由来是因为越小的元素会经由交换慢慢\"浮\"到数列的顶端。\n",
    "\n",
    "作为最简单的排序算法之一，冒泡排序给我的感觉就像 Abandon 在单词书里出现的感觉一样，每次都在第一页第一位，所以最熟悉。冒泡排序还有一种优化算法，就是立一个 flag，当在一趟序列遍历中元素没有发生交换，则证明该序列已经有序。但这种改进对于提升性能来\n",
    "\n",
    "说并没有什么太大作用。\n",
    "\n",
    "算法步骤\n",
    "\n",
    "比较相邻的元素。如果第一个比第二个大，就交换他们两个。\n",
    "\n",
    "对每一对相邻元素作同样的工作，从开始第一对到结尾的最后一对。这步做完后，最后的元素会是最大的数。\n",
    "\n",
    "针对所有的元素重复以上的步骤，除了最后一个。\n",
    "\n",
    "持续每次对越来越少的元素重复上面的步骤，直到没有任何一对数字需要比较。\n",
    "\n",
    "从前往后比，后面是有序的\n",
    "第一个循环是1 到 len(arr),因为0-0已经有序了\n",
    "第二个循环是0 到len(arr)-i，因为比多少轮，就有多少个数字已经是有序的了\n",
    "从小到大排序的话\n",
    "如果前一个比后一个数字大，就交换他们，直到 len(arr)-i\n",
    "\n",
    "#for i in range(len(arr)):\n",
    "   #print (i) "
   ]
  },
  {
   "cell_type": "code",
   "execution_count": 36,
   "id": "14e78c5f",
   "metadata": {},
   "outputs": [],
   "source": [
    "#冒泡排序\n",
    "def bubbleSort(arr):\n",
    "    for i in range(1, len(arr)):\n",
    "        #每次都比到最后一个，选出最大的数，所以经过一轮比较过的数就不需要再比了，可以len(arr)-i\n",
    "        for j in range(0, len(arr)-i):\n",
    "            #如果前一个数大于后一个数，这里面就不需要有i的参与了，直接用j+1做为坐标就可以，\n",
    "            if arr[j] > arr[j+1]:\n",
    "                #换的时候用j和j+1作为锚，i只作为一个开始的点，和排序次数的计算\n",
    "                arr[j], arr[j + 1] = arr[j + 1], arr[j]\n",
    "    return arr"
   ]
  },
  {
   "cell_type": "code",
   "execution_count": 160,
   "id": "fa9a1553",
   "metadata": {},
   "outputs": [],
   "source": [
    "arr1 = [1,6,3,4,3,2,4,3,5,3,5,6,6]\n",
    "def bubbleSort(arr):\n",
    "    for i in range(1,len(arr)):\n",
    "        for j in range(0,len(arr)-i):\n",
    "            if arr[j] > arr[j+1]:\n",
    "                arr[j],arr[j+1]= arr[j+1],arr[j]\n",
    "    return arr            \n",
    "            "
   ]
  },
  {
   "cell_type": "code",
   "execution_count": 161,
   "id": "74b7cf53",
   "metadata": {},
   "outputs": [
    {
     "name": "stdout",
     "output_type": "stream",
     "text": [
      "[1, 6, 3, 4, 3, 2, 4, 3, 5, 3, 5, 6, 6]\n",
      "[1, 2, 3, 3, 3, 3, 4, 4, 5, 5, 6, 6, 6]\n"
     ]
    }
   ],
   "source": [
    "print(arr1)\n",
    "bubbleSort(arr1)\n",
    "print(arr1)"
   ]
  },
  {
   "cell_type": "markdown",
   "id": "a74893b7",
   "metadata": {},
   "source": [
    "这个是从后往前遍历，\n",
    "所以第一个循环是（len(arr)-1,0,-1）,\n",
    "第二个循环是"
   ]
  },
  {
   "cell_type": "code",
   "execution_count": 195,
   "id": "0b3dd8f0",
   "metadata": {},
   "outputs": [],
   "source": [
    "arr1 = [1,6,3,4,7,2,8,9,5,10,13,12,11]\n",
    "def bubbleSort1(arr):\n",
    "    for i in range(len(arr) - 1, 0, -1):  # 反向遍历，一共arr个数\n",
    "        for j in range(0, i):  # 由于最右侧的值已经有序，不再比较，每次都减少遍历次数\n",
    "            if arr[j] > arr[j + 1]:\n",
    "                arr[j], arr[j + 1] = arr[j + 1], arr[j]\n",
    "    return arr\n",
    "#len(arr)= 13\n",
    "#第一个for (len(arr) - 1, 0, -1)，实际上是从 12 到 0(包含12，不包含0)，一共12个数\n",
    "#第二个for (0, i)，包含零，不包含i，是从0 到 11"
   ]
  },
  {
   "cell_type": "code",
   "execution_count": 198,
   "id": "33c8855f",
   "metadata": {},
   "outputs": [
    {
     "name": "stdout",
     "output_type": "stream",
     "text": [
      "0\n",
      "1\n",
      "2\n",
      "3\n",
      "4\n",
      "5\n",
      "6\n",
      "7\n",
      "8\n",
      "9\n",
      "10\n",
      "11\n",
      "12\n",
      "***************\n",
      "13\n",
      "***************\n",
      "0\n",
      "1\n",
      "2\n",
      "3\n",
      "4\n",
      "5\n",
      "6\n",
      "7\n",
      "8\n",
      "9\n"
     ]
    }
   ],
   "source": [
    "arr1 = [1,6,3,4,7,2,8,9,5,10,13,12,11]\n",
    "for i in range(len(arr)):\n",
    "    print (i)\n",
    "print('***************')\n",
    "print(len(arr)) \n",
    "print('***************')\n",
    "for i in range(0,10):#打印一个范围的时候，不包含后面的边界数\n",
    "    print(i)"
   ]
  },
  {
   "cell_type": "code",
   "execution_count": 196,
   "id": "c6a77b77",
   "metadata": {},
   "outputs": [
    {
     "name": "stdout",
     "output_type": "stream",
     "text": [
      "[1, 6, 3, 4, 7, 2, 8, 9, 5, 10, 13, 12, 11]\n",
      "0\n",
      "1\n",
      "2\n",
      "3\n",
      "4\n",
      "5\n",
      "6\n",
      "7\n",
      "8\n",
      "9\n",
      "10\n",
      "11\n",
      "0\n",
      "1\n",
      "2\n",
      "3\n",
      "4\n",
      "5\n",
      "6\n",
      "7\n",
      "8\n",
      "9\n",
      "10\n",
      "0\n",
      "1\n",
      "2\n",
      "3\n",
      "4\n",
      "5\n",
      "6\n",
      "7\n",
      "8\n",
      "9\n",
      "0\n",
      "1\n",
      "2\n",
      "3\n",
      "4\n",
      "5\n",
      "6\n",
      "7\n",
      "8\n",
      "0\n",
      "1\n",
      "2\n",
      "3\n",
      "4\n",
      "5\n",
      "6\n",
      "7\n",
      "0\n",
      "1\n",
      "2\n",
      "3\n",
      "4\n",
      "5\n",
      "6\n",
      "0\n",
      "1\n",
      "2\n",
      "3\n",
      "4\n",
      "5\n",
      "0\n",
      "1\n",
      "2\n",
      "3\n",
      "4\n",
      "0\n",
      "1\n",
      "2\n",
      "3\n",
      "0\n",
      "1\n",
      "2\n",
      "0\n",
      "1\n",
      "0\n",
      "[1, 2, 3, 4, 5, 6, 7, 8, 9, 10, 11, 12, 13]\n"
     ]
    }
   ],
   "source": [
    "print(arr1)\n",
    "bubbleSort1(arr1)\n",
    "print(arr1)"
   ]
  },
  {
   "cell_type": "markdown",
   "id": "8328307b",
   "metadata": {},
   "source": [
    "#选择排序 selection sort\n",
    "'''\n",
    "选择排序是一种简单直观的排序算法，无论什么数据进去都是 O(n²) 的时间复杂度。所以用到它的时候，数据规模越小越好。唯一的好处可能就是不占用额外的内存空间了吧。\n",
    "\n",
    "1. 算法步骤\n",
    "首先在未排序序列中找到最小（大）元素，存放到排序序列的起始位置。\n",
    "\n",
    "再从剩余未排序元素中继续寻找最小（大）元素，然后放到已排序序列的末尾。\n",
    "\n",
    "重复第二步，直到所有元素均排序完毕。\n",
    "\n",
    "从左往右比，把大的放后面，小的放前面\n",
    "arr长度为13\n",
    "第一个for 实际上比 0 - 11,\n",
    "第二个for 实际上比 i+1 - 12,左边已经是排过序的,一定要记得第二重不是直接+1,而是i+1,j的值随着i的值是会不停改变的\n",
    "\n",
    "因为 i 从0开始，最后会把找到的值赋给i，所以i是从左开始有序的"
   ]
  },
  {
   "cell_type": "code",
   "execution_count": 229,
   "id": "42f7d0e4",
   "metadata": {},
   "outputs": [],
   "source": [
    "#选择排序\n",
    "arr1 = [1,6,3,4,7,2,8,9,5,10,13,12,11]\n",
    "def selectionSort(arr):\n",
    "    for i in range(len(arr) - 1):\n",
    "        minIndex = i\n",
    "        for j in range(i + 1, len(arr)):\n",
    "            if arr[j] < arr[minIndex]:\n",
    "                minIndex = j\n",
    "        # i 不是最小数时，将 i 和最小数进行交换\n",
    "        if i != minIndex:\n",
    "            arr[i], arr[minIndex] = arr[minIndex], arr[i]\n",
    "    return arr"
   ]
  },
  {
   "cell_type": "code",
   "execution_count": 212,
   "id": "5de93cab",
   "metadata": {},
   "outputs": [
    {
     "name": "stdout",
     "output_type": "stream",
     "text": [
      "[1, 6, 3, 4, 7, 2, 8, 9, 5, 10, 13, 12, 11]\n",
      "[1, 2, 3, 4, 5, 6, 7, 8, 9, 10, 11, 12, 13]\n"
     ]
    }
   ],
   "source": [
    "print(arr1)\n",
    "selectionSort(arr1)\n",
    "print(arr1)"
   ]
  },
  {
   "cell_type": "code",
   "execution_count": 201,
   "id": "fa3e4840",
   "metadata": {},
   "outputs": [],
   "source": [
    "arr1 = [1,6,3,4,7,2,8,9,5,10,13,12,11]\n",
    "def selectionSort(arr):\n",
    "    #循环 arr 的 index ，\n",
    "    #先是（0，len(arr)-1）,后面是（i+1,len(arr)），j循环的是i+1的结果，前后条件都要+1，也就是（i+1,len(arr)）\n",
    "    for i in range(len(arr)-1):#默认从0开始，不需要要写（0，len(arr)-1）\n",
    "        #设最小数的索引为i\n",
    "        minIndex = i\n",
    "        #和i去比较的数是j,j的出始下标是i+1，然后比到这个arr数组的最后\n",
    "        for j in range(i+1,len(arr)):\n",
    "            #如果下标j对应的具体的数小于 i所对应的最小值，就把j的下标赋给这个minIndex,，然后再和i+2进行比对，直到len(arr)，\n",
    "            #找到并记录从（i+1到len(arr)里的最小值的下标）\n",
    "            if arr[j] < arr[minIndex]:\n",
    "                #把找到的最小值的下标，换成最新最小值下标\n",
    "                minIndex = j\n",
    "        #如果i的下标和找到整个数组里最小值的下标不一样，将 i 和最小数进行交换。注意：具体挪动位置时，交换的是i和minIndex的具体数而不是下标 \n",
    "        #i 不是最小数时，将 i 和最小数进行交换\n",
    "        if i != minIndex:\n",
    "            #i,minIndex = minIndex, i,下标是不会变的，都是12345\n",
    "            arr[i], arr[minIndex] = arr[minIndex],arr[i]#要把具体的数挪位，下标只是用来确定位置的\n",
    "        \n",
    "    return arr       \n"
   ]
  },
  {
   "cell_type": "code",
   "execution_count": 200,
   "id": "0e9a2e46",
   "metadata": {},
   "outputs": [
    {
     "name": "stdout",
     "output_type": "stream",
     "text": [
      "[1, 6, 3, 4, 7, 2, 8, 9, 5, 10, 13, 12, 11]\n",
      "[1, 2, 3, 4, 5, 6, 7, 8, 9, 10, 11, 12, 13]\n"
     ]
    }
   ],
   "source": [
    "print(arr1)\n",
    "selectionSort(arr1)\n",
    "print(arr1)"
   ]
  },
  {
   "cell_type": "markdown",
   "id": "2236daa4",
   "metadata": {},
   "source": [
    "## 插入排序\n",
    "它的工作原理是通过构建有序序列，对于未排序数据，在已排序序列中从后向前扫描，找到相应位置并插入。\n",
    "\n",
    "插入排序和冒泡排序一样，也有一种优化算法，叫做拆半插入。\n",
    "\n",
    "将第一待排序序列第一个元素看做一个有序序列，把第二个元素到最后一个元素当成是未排序序列。\n",
    "\n",
    "从头到尾依次扫描未排序序列，将扫描到的每个元素插入有序序列的适当位置。（如果待插入的元素与有序序列中的某个元素相等，则将待插入元素插入到相等元素的后面。）"
   ]
  },
  {
   "cell_type": "code",
   "execution_count": 237,
   "id": "cb071238",
   "metadata": {},
   "outputs": [],
   "source": [
    "#插入排序\n",
    "arr1 = [1,6,3,4,7,2,8,9,5,10,13,12,11]\n",
    "def insertionSort(arr):\n",
    "   # if(arr == null or arr.length<2):#数组不为空，数组内有2个以上元素\n",
    "      #  return arr\n",
    "    for i in range(1,len(arr)):#0-len(arr),len(arr)都可以？？\n",
    "        preIndex = i-1\n",
    "        current = arr[i]\n",
    "        while preIndex >= 0 and arr[preIndex] > current:\n",
    "            arr[preIndex+1] = arr[preIndex]\n",
    "            preIndex-=1\n",
    "        arr[preIndex+1] = current\n",
    "    return arr"
   ]
  },
  {
   "cell_type": "code",
   "execution_count": 238,
   "id": "db8c2722",
   "metadata": {},
   "outputs": [
    {
     "name": "stdout",
     "output_type": "stream",
     "text": [
      "[1, 6, 3, 4, 7, 2, 8, 9, 5, 10, 13, 12, 11]\n",
      "[1, 2, 3, 4, 5, 6, 7, 8, 9, 10, 11, 12, 13]\n"
     ]
    }
   ],
   "source": [
    "print(arr1)\n",
    "selectionSort(arr1)\n",
    "print(arr1)"
   ]
  },
  {
   "cell_type": "code",
   "execution_count": 239,
   "id": "b36da192",
   "metadata": {},
   "outputs": [],
   "source": [
    "      "
   ]
  },
  {
   "cell_type": "code",
   "execution_count": 240,
   "id": "615822a4",
   "metadata": {},
   "outputs": [
    {
     "name": "stdout",
     "output_type": "stream",
     "text": [
      "[1, 6, 3, 4, 7, 2, 8, 9, 5, 10, 13, 12, 11]\n",
      "[1, 2, 3, 4, 5, 6, 7, 8, 9, 10, 11, 12, 13]\n"
     ]
    }
   ],
   "source": []
  },
  {
   "cell_type": "code",
   "execution_count": 244,
   "id": "144645b3",
   "metadata": {},
   "outputs": [],
   "source": [
    "arr1 = [1,6,3,4,7,2,8,9,5,10,13,12,11]\n",
    "def insertionSort(arr):\n",
    "    #当前到整个数组的循环\n",
    "    for i in range(1,len(arr)):\n",
    "        #比较的是具体的数，current是具体的数，操作和定位的时候需要下标，所以前一个数最好用下标表示\n",
    "        #前一个数的下标 ，\n",
    "        preIndex = i-1\n",
    "        #当前的具体数,这是是个flag,在比较的一轮中不会改变，一直存着，直到遇到左边更小的时候，当前数的下标可以用preIndex+1 来表示\n",
    "        current = arr[i]#这个值取出来，很快它的位置会被前一个较大的数给填上，current只参与比较，但是不交换，直到最后找到合适位置了再放在那个空位上\n",
    "        #当前一个数的下标>=0，并且前一个数大于当前的数\n",
    "        #设置好界限，因为preIndex一直在-1，如果越界就会有异常。\n",
    "        while preIndex >= 0 and arr[preIndex] > current:\n",
    "            #把前一个数的具体数（大的），赋值给当前数（preIndex后一个数），但是呢，要赋给（preIndex+1），而不是current的坐标，因为这个current具体值要留着\n",
    "            #不停的把比较大的数往后一个放，如果前一个数大，把前一个数放到后一个数的位置\n",
    "            arr[preIndex + 1] = arr[preIndex]#往后一个位置放，所以要+1\n",
    "            #比完一个数字后，再往前推一个数，再一次进while循环去验证，去比较，直到到数组最右边preIndex < 或者 arr[preIndex] < current:\n",
    "            preIndex -= 1\n",
    "        #出了while循环后，因为把current的值赋值给arr[preIndex + 1],因为最后一次比较时数值坐标停留在preIndex -= 1，\n",
    "        #然后再进for循环i+1，直到出了len(arr)的范围\n",
    "        arr[preIndex + 1] = current#是把current的值，放到它该放的位置！！\n",
    "    return arr    \n",
    "            "
   ]
  },
  {
   "cell_type": "code",
   "execution_count": 245,
   "id": "c82eb81c",
   "metadata": {},
   "outputs": [
    {
     "name": "stdout",
     "output_type": "stream",
     "text": [
      "[1, 6, 3, 4, 7, 2, 8, 9, 5, 10, 13, 12, 11]\n",
      "[1, 2, 3, 4, 5, 6, 7, 8, 9, 10, 11, 12, 13]\n"
     ]
    }
   ],
   "source": [
    "print(arr1)\n",
    "selectionSort(arr1)\n",
    "print(arr1)"
   ]
  },
  {
   "cell_type": "markdown",
   "id": "5859db84",
   "metadata": {},
   "source": [
    "## 希尔排序\n",
    "\n",
    "也称递减增量排序算法，是插入排序的一种更高效的改进版本。但希尔排序是非稳定排序算法。\n",
    "\n",
    "希尔排序是基于插入排序的以下两点性质而提出改进方法的：\n",
    "\n",
    "插入排序在对几乎已经排好序的数据操作时，效率高，即可以达到线性排序的效率；\n",
    "但插入排序一般来说是低效的，因为插入排序每次只能将数据移动一位；\n",
    "希尔排序的基本思想是：先将整个待排序的记录序列分割成为若干子序列分别进行直接插入排序，待整个序列中的记录\"基本有序\"时，再对全体记录进行依次直接插入排序。\n",
    "\n",
    "1. 算法步骤\n",
    "选择一个增量序列 t1，t2，……，tk，其中 ti > tj, tk = 1；\n",
    "\n",
    "按增量序列个数 k，对序列进行 k 趟排序；\n",
    "\n",
    "每趟排序，根据对应的增量 ti，将待排序列分割成若干长度为 m 的子序列，分别对各子表进行直接插入排序。仅增量因子为 1 时，整个序列作为一个表来处理，表长度即为整个序列的长度。"
   ]
  },
  {
   "cell_type": "code",
   "execution_count": 166,
   "id": "30bc1821",
   "metadata": {},
   "outputs": [],
   "source": [
    "def shellSort(arr):\n",
    "    import math\n",
    "    gap=1\n",
    "    while(gap < len(arr)/3):\n",
    "        gap = gap*3+1\n",
    "    while gap > 0:\n",
    "        for i in range(gap,len(arr)):\n",
    "            temp = arr[i]\n",
    "            j = i-gap\n",
    "            while j >=0 and arr[j] > temp:\n",
    "                arr[j+gap]=arr[j]\n",
    "                j-=gap\n",
    "            arr[j+gap] = temp\n",
    "        gap = math.floor(gap/3)\n",
    "    return arr"
   ]
  },
  {
   "cell_type": "markdown",
   "id": "195c196a",
   "metadata": {},
   "source": [
    "## 归并排序\n",
    "\n",
    "归并排序（Merge sort）是建立在归并操作上的一种有效的排序算法。该算法是采用分治法（Divide and Conquer）的一个非常典型的应用。\n",
    "\n",
    "作为一种典型的分而治之思想的算法应用，归并排序的实现由两种方法：\n",
    "\n",
    "自上而下的递归（所有递归的方法都可以用迭代重写，所以就有了第 2 种方法）；\n",
    "自下而上的迭代；\n",
    "\n",
    "和选择排序一样，归并排序的性能不受输入数据的影响，但表现比选择排序好的多，因为始终都是 O(nlogn) 的时间复杂度。代价是需要额外的内存空间。\n",
    "\n",
    "算法步骤\n",
    "\n",
    "申请空间，使其大小为两个已经排序序列之和，该空间用来存放合并后的序列；\n",
    "\n",
    "设定两个指针，最初位置分别为两个已经排序序列的起始位置；\n",
    "\n",
    "比较两个指针所指向的元素，选择相对小的元素放入到合并空间，并移动指针到下一位置；\n",
    "\n",
    "重复步骤 3 直到某一指针达到序列尾；\n",
    "\n",
    "将另一序列剩下的所有元素直接复制到合并序列尾。\n",
    "\n",
    "abs(x)\t返回数字的绝对值，如abs(-10) 返回 10\n",
    "\n",
    "floor(x) 返回数字的下舍整数，小于或等于 x\n",
    "\n",
    "ceil(x)返回数字的上入整数，如math.ceil(4.1) 返回 5\n",
    "\n",
    "双斜线的//表示取整数，integer division\n"
   ]
  },
  {
   "cell_type": "code",
   "execution_count": null,
   "id": "5bed86b7",
   "metadata": {},
   "outputs": [],
   "source": [
    "def mergeSort(arr):\n",
    "    import math\n",
    "    if(len(arr)<2):\n",
    "        return arr\n",
    "    #floor(x) 返回数字的下舍整数，小于或等于 x。如果是奇数的话，就是更靠左的那一个\n",
    "    middle = math.floor(len(arr)/2)\n",
    "    #前一个不包含middle,后一个包含middle\n",
    "    left, right = arr[0:middle], arr[middle:]\n",
    "    return merge(mergeSort(left), mergeSort(right))\n",
    "\n",
    "def merge(left,right):\n",
    "    result = []\n",
    "    while left and right:\n",
    "        #如果右边的大\n",
    "        if left[0] <= right[0]:\n",
    "            #右边大，右边留下，左边的去除\n",
    "            result.append(left.pop(0))\n",
    "        else:\n",
    "            #如果左边的大，左边留下，右边的去除\n",
    "            result.append(right.pop(0));\n",
    "    #剩左边，\n",
    "    while left:\n",
    "        result.append(left.pop(0))\n",
    "    #剩右边    \n",
    "    while right:\n",
    "        result.append(right.pop(0));\n",
    "    return result"
   ]
  },
  {
   "cell_type": "code",
   "execution_count": 246,
   "id": "0d18dbc4",
   "metadata": {},
   "outputs": [
    {
     "name": "stdout",
     "output_type": "stream",
     "text": [
      "给定的数组\n",
      "12\n",
      "11\n",
      "13\n",
      "5\n",
      "6\n",
      "7\n",
      "\n",
      "\n",
      "排序后的数组\n",
      "5\n",
      "6\n",
      "7\n",
      "11\n",
      "12\n",
      "13\n"
     ]
    }
   ],
   "source": [
    "def merge(arr, l, m, r): \n",
    "    n1 = m - l + 1\n",
    "    n2 = r- m \n",
    "  \n",
    "    # 创建临时数组\n",
    "    L = [0] * (n1)\n",
    "    R = [0] * (n2)\n",
    "  \n",
    "    # 拷贝数据到临时数组 arrays L[] 和 R[] \n",
    "    for i in range(0 , n1): \n",
    "        L[i] = arr[l + i] \n",
    "  \n",
    "    for j in range(0 , n2): \n",
    "        R[j] = arr[m + 1 + j] \n",
    "  \n",
    "    # 归并临时数组到 arr[l..r] \n",
    "    i = 0     # 初始化第一个子数组的索引\n",
    "    j = 0     # 初始化第二个子数组的索引\n",
    "    k = l     # 初始归并子数组的索引\n",
    "  \n",
    "    while i < n1 and j < n2 : \n",
    "        if L[i] <= R[j]: \n",
    "            arr[k] = L[i] \n",
    "            i += 1\n",
    "        else: \n",
    "            arr[k] = R[j] \n",
    "            j += 1\n",
    "        k += 1\n",
    "  \n",
    "    # 拷贝 L[] 的保留元素\n",
    "    while i < n1: \n",
    "        arr[k] = L[i] \n",
    "        i += 1\n",
    "        k += 1\n",
    "  \n",
    "    # 拷贝 R[] 的保留元素\n",
    "    while j < n2: \n",
    "        arr[k] = R[j] \n",
    "        j += 1\n",
    "        k += 1\n",
    "def mergeSort(arr,l,r): \n",
    "    if l < r: \n",
    "  \n",
    "        \n",
    "        m = int((l+(r-1))/2)\n",
    "  \n",
    "       \n",
    "        mergeSort(arr, l, m) \n",
    "        mergeSort(arr, m+1, r) \n",
    "        merge(arr, l, m, r) \n",
    "  \n",
    "  \n",
    "arr = [12, 11, 13, 5, 6, 7] \n",
    "n = len(arr) \n",
    "print (\"给定的数组\") \n",
    "for i in range(n): \n",
    "    print (\"%d\" %arr[i]), \n",
    "    \n",
    "mergeSort(arr,0,n-1) \n",
    "print (\"\\n\\n排序后的数组\") \n",
    "for i in range(n): \n",
    "    print (\"%d\" %arr[i]),"
   ]
  },
  {
   "cell_type": "code",
   "execution_count": 254,
   "id": "ea6c7433",
   "metadata": {},
   "outputs": [],
   "source": [
    "def merge_sort(arr):\n",
    "    if len(arr)>1:\n",
    "        left_arr = arr[:len(arr)//2]\n",
    "        right_arr = arr[len(arr)//2:]\n",
    "        \n",
    "        #recursion\n",
    "        merge_sort(left_arr)\n",
    "        merge_sort(right_arr)\n",
    "        \n",
    "        #merge\n",
    "        i = 0 #left_arr idx\n",
    "        j = 0 #right_arr idx\n",
    "        k = 0 #merge_arr idx\n",
    "        while i < len(left_arr) and j < len(right_arr):\n",
    "            if left_arr[i] < right_arr[j]:\n",
    "                arr[k] = left_arr[i]\n",
    "                i += 1\n",
    "            else:\n",
    "                arr[k] = right_arr[j]\n",
    "                j += 1\n",
    "            k += 1\n",
    "        while i < len(left_arr):\n",
    "            arr[k] = left_arr[i]\n",
    "            i += 1\n",
    "            k += 1\n",
    "        while j < len(right_arr):\n",
    "            arr[k] = right_arr[j]\n",
    "            j += 1\n",
    "            k += 1\n",
    "            "
   ]
  },
  {
   "cell_type": "code",
   "execution_count": 258,
   "id": "13b49d85",
   "metadata": {},
   "outputs": [
    {
     "name": "stdout",
     "output_type": "stream",
     "text": [
      "[1, 2, 3, 4, 5, 6, 7, 8, 9, 10, 11, 12, 13]\n"
     ]
    }
   ],
   "source": [
    "arr_test = [1,6,3,4,7,2,8,9,5,10,13,12,11]\n",
    "merge_sort(arr_test)\n",
    "print(arr_test)"
   ]
  },
  {
   "cell_type": "code",
   "execution_count": null,
   "id": "6cad1fce",
   "metadata": {},
   "outputs": [],
   "source": []
  }
 ],
 "metadata": {
  "kernelspec": {
   "display_name": "Python 3",
   "language": "python",
   "name": "python3"
  },
  "language_info": {
   "codemirror_mode": {
    "name": "ipython",
    "version": 3
   },
   "file_extension": ".py",
   "mimetype": "text/x-python",
   "name": "python",
   "nbconvert_exporter": "python",
   "pygments_lexer": "ipython3",
   "version": "3.8.8"
  }
 },
 "nbformat": 4,
 "nbformat_minor": 5
}
