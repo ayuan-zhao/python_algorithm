{
 "cells": [
  {
   "cell_type": "markdown",
   "id": "74da237b",
   "metadata": {},
   "source": [
    "## week3\n",
    "find duplicate number in an array"
   ]
  },
  {
   "cell_type": "code",
   "execution_count": 43,
   "id": "9cc84418",
   "metadata": {},
   "outputs": [],
   "source": [
    "#way1\n",
    "#set不能有重复的，并且可以查是否在set中\n",
    "class Solution:\n",
    "    def findDuplicate(self, nums):\n",
    "        res = set()\n",
    "        tmp = set()\n",
    "        for num in nums:\n",
    "            if num in tmp:\n",
    "                res.add(num)\n",
    "            else:\n",
    "                tmp.add(num)\n",
    "        return list(res)\n",
    "\n"
   ]
  },
  {
   "cell_type": "code",
   "execution_count": 44,
   "id": "4178b6c8",
   "metadata": {},
   "outputs": [
    {
     "name": "stdout",
     "output_type": "stream",
     "text": [
      "[1, 2]\n",
      "[1]\n",
      "[]\n"
     ]
    }
   ],
   "source": [
    "so = Solution()\n",
    "print(so.findDuplicate([1,2,3,2,1,1,1]))\n",
    "print(so.findDuplicate([1,1,1,2]))\n",
    "print(so.findDuplicate([1]))\n"
   ]
  },
  {
   "cell_type": "code",
   "execution_count": 53,
   "id": "3779eba3",
   "metadata": {},
   "outputs": [],
   "source": [
    "\n",
    "\n",
    "    '''\n",
    "    class Solution:\n",
    "    def findDuplicate2(self, nums):\n",
    "        res = set()\n",
    "        tmp = set()\n",
    "        for num in nums:\n",
    "            if num in tmp:\n",
    "                #注意，添加进去就可以，不需要res= res.add\n",
    "                res.add(num)\n",
    "            else:\n",
    "                tmp.add(num)\n",
    "        return list(res)        \n",
    "    \n",
    "    '''"
   ]
  },
  {
   "cell_type": "code",
   "execution_count": 54,
   "id": "bb63e7ed",
   "metadata": {},
   "outputs": [
    {
     "name": "stdout",
     "output_type": "stream",
     "text": [
      "[1, 2]\n",
      "[1]\n",
      "[]\n"
     ]
    }
   ],
   "source": [
    "so = Solution()\n",
    "print(so.findDuplicate2([1,2,3,2,1,1,1]))\n",
    "print(so.findDuplicate2([1,1,1,2]))\n",
    "print(so.findDuplicate2([1]))\n"
   ]
  },
  {
   "cell_type": "markdown",
   "id": "2ac7625a",
   "metadata": {},
   "source": [
    "way2,要把数组里具体的数做为下标！一定要分的清楚"
   ]
  },
  {
   "cell_type": "code",
   "execution_count": 66,
   "id": "120d8592",
   "metadata": {},
   "outputs": [],
   "source": [
    "#两重循环，缺点就是，当元素是0的时候没法区分\n",
    "class Solution:\n",
    "    def findDuplicate3(self,nums):\n",
    "        #一共准备两个数组\n",
    "        #一个是传入的数组nums\n",
    "        #一个是临时计算的数组 tmp,让tmp的数组长度和nums保持一致\n",
    "        #返回的是res数组，在最后打出结果的时候设就可以\n",
    "        ln = len(nums)\n",
    "        tmp = [-1] * ln\n",
    "        \n",
    "        for num in nums:\n",
    "            print(num)\n",
    "        # num not in tmp\n",
    "            if tmp[num] == -1:\n",
    "                tmp[num] = -2;\n",
    "            elif tmp[num] == -2:\n",
    "            # duplicate element\n",
    "                tmp[num] = -3;\n",
    "        res = [];\n",
    "        #下标其实就是对应着，nums的具体数num\n",
    "        for i in range(ln):\n",
    "            if tmp[i] == -3:\n",
    "                res.append(i)\n",
    "        return res"
   ]
  },
  {
   "cell_type": "code",
   "execution_count": 68,
   "id": "0fe2d852",
   "metadata": {},
   "outputs": [
    {
     "name": "stdout",
     "output_type": "stream",
     "text": [
      "[1, 2]\n",
      "[1]\n",
      "[]\n"
     ]
    }
   ],
   "source": [
    "so = Solution()\n",
    "print(so.findDuplicate3([1,2,3,2,1,1,1]))\n",
    "print(so.findDuplicate3([1,1,1,2]))\n",
    "print(so.findDuplicate3([0]))\n"
   ]
  },
  {
   "cell_type": "code",
   "execution_count": null,
   "id": "12b484d8",
   "metadata": {},
   "outputs": [],
   "source": [
    "\n",
    "def findDuplicateNumber5(nums):\n",
    "    res = set()\n",
    "    n = len(nums)\n",
    "    for ele in nums:\n",
    "        e = ele - n if ele >= n else ele\n",
    "        if nums[e] < n:\n",
    "            nums[e] += n\n",
    "        else:\n",
    "            res.add(e)\n",
    "    return list(res)"
   ]
  }
 ],
 "metadata": {
  "kernelspec": {
   "display_name": "Python 3",
   "language": "python",
   "name": "python3"
  },
  "language_info": {
   "codemirror_mode": {
    "name": "ipython",
    "version": 3
   },
   "file_extension": ".py",
   "mimetype": "text/x-python",
   "name": "python",
   "nbconvert_exporter": "python",
   "pygments_lexer": "ipython3",
   "version": "3.8.8"
  }
 },
 "nbformat": 4,
 "nbformat_minor": 5
}
