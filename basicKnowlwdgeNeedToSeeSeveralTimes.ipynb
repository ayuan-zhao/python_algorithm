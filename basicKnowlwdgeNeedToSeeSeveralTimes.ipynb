{
 "cells": [
  {
   "cell_type": "markdown",
   "id": "1f464f1a",
   "metadata": {},
   "source": [
    "# 刷题基础\n"
   ]
  },
  {
   "cell_type": "markdown",
   "id": "a1910cce",
   "metadata": {},
   "source": [
    "## 类的方法"
   ]
  },
  {
   "cell_type": "code",
   "execution_count": null,
   "id": "ad62320f",
   "metadata": {},
   "outputs": [],
   "source": [
    "\n",
    "class A(object):\n",
    "    a = 'a'\n",
    "    #这个@staticmethod是必须的\n",
    "    @staticmethod\n",
    "    def foo1(name):\n",
    "        print ('hello', name)\n",
    "    def foo2(self, name):\n",
    "        print ('hello', name)\n",
    "   #classmethod\n",
    "    def foo3(cls, name):\n",
    "        print('hello', name)"
   ]
  },
  {
   "cell_type": "code",
   "execution_count": null,
   "id": "d8c0e9bf",
   "metadata": {},
   "outputs": [],
   "source": [
    "\n",
    "class A(object):\n",
    "    a = 'a'\n",
    "    #这个@staticmethod是必须的\n",
    "    @staticmethod\n",
    "    def foo1(name):\n",
    "        print ('hello', name)"
   ]
  },
  {
   "cell_type": "markdown",
   "id": "430ac77a",
   "metadata": {},
   "source": [
    "\n",
    "静态函数：\n",
    "foo1为静态函数，用#staticmethod装饰器装饰，这种方法与类有某种关系 但### 不需要 ###使用到实例或者类来参与。\n",
    "如下两种方法都可以正常输出，也就是说既可以作为类的方法使用，也可以作为类的实例的方法使用。\n"
   ]
  },
  {
   "cell_type": "code",
   "execution_count": null,
   "id": "2df5e82f",
   "metadata": {},
   "outputs": [],
   "source": [
    "a = A()\n",
    "a.foo1('mamq') # 输出: hello mamq\n",
    "A.foo1('mamq')# 输出: hello mamq"
   ]
  },
  {
   "cell_type": "markdown",
   "id": "5c3d848a",
   "metadata": {},
   "source": [
    "foo2为正常的函数，是类的实例的函数，只能通过a调用。"
   ]
  },
  {
   "cell_type": "code",
   "execution_count": null,
   "id": "1ff83dab",
   "metadata": {},
   "outputs": [],
   "source": [
    "class A(object):\n",
    "    a = 'a'\n",
    "    def foo2(self, name):\n",
    "        print ('hello', name)"
   ]
  },
  {
   "cell_type": "code",
   "execution_count": null,
   "id": "9ac0ce23",
   "metadata": {},
   "outputs": [],
   "source": [
    "a = A()\n",
    "a.foo2('normal method') # 输出: hello mamq\n",
    "#A.foo2('mamq') # 报错: unbound method foo2() must be called with A instance as first argument (got str instance instead)\n",
    "\n"
   ]
  },
  {
   "cell_type": "markdown",
   "id": "bd23050a",
   "metadata": {},
   "source": [
    "foo3为类函数，cls作为第一个参数用来表示类本身. 在类方法中用到，\n",
    "类方法是只与类本身有关而与实例无关的方法。如下两种方法都可以正常输出。"
   ]
  },
  {
   "cell_type": "code",
   "execution_count": null,
   "id": "92c2eb95",
   "metadata": {},
   "outputs": [],
   "source": [
    "class A(object):\n",
    "    a = 'a'\n",
    "    @classmethod\n",
    "    def foo3(cls, name):\n",
    "        print('hello', name)"
   ]
  },
  {
   "cell_type": "code",
   "execution_count": null,
   "id": "7185a52d",
   "metadata": {},
   "outputs": [],
   "source": [
    "\n",
    "a = A()\n",
    "a.foo3('mamq') # 输出: hello mamq\n",
    "A.foo3('mamq') # 输出: hello mamq"
   ]
  },
  {
   "cell_type": "markdown",
   "id": "3c59e270",
   "metadata": {},
   "source": [
    "但是通过例子发现staticmethod与classmethod的使用方法和输出结果相同，再看看这两种方法的区别。\n",
    "\n",
    "既然@staticmethod和@classmethod都可以直接类名.方法名()来调用，\n",
    "那他们有什么区别呢从它们的使用上来看,@staticmethod不需要表示自身对象的self和自身类的cls参数，就跟使用函数一样。\n",
    "\n",
    "@classmethod也不需要self参数，但第一个参数需要是表示自身类的cls参数。\n",
    "\n",
    "如果在@staticmethod中要调用到这个类的一些属性方法，只能直接类名.属性名或类名.方法名。\n",
    "\n",
    "而@classmethod因为持有cls参数，可以来调用类的属性，类的方法，实例化对象等，避免硬编码。\n",
    "\n",
    "也就是说在classmethod中可以调用类中定义的其他方法、类的属性，\n",
    "\n",
    "但staticmethod只能通过A.a调用类的属性，但无法通过在该函数内部调用A.foo2()。修改上面的代码加以说明：\n",
    "\n",
    "\n"
   ]
  },
  {
   "cell_type": "code",
   "execution_count": null,
   "id": "b062202b",
   "metadata": {},
   "outputs": [],
   "source": [
    "class A(object):\n",
    "    a = 'a'\n",
    "    @staticmethod\n",
    "    def foo1(name):\n",
    "        print('hello', name)\n",
    "        print (A.a) # 正常\n",
    "        print(A.foo2('mamq')) # 报错: unbound method foo2() must be called with A instance as first argument (got str instance instead)\n",
    "    def foo2(self, name):\n",
    "        print('hello', name)\n",
    "    @classmethod\n",
    "    def foo3(cls, name):\n",
    "        print('hello', name)\n",
    "        print (A.a)\n",
    "        print (cls().foo2(name))\n",
    "\n"
   ]
  },
  {
   "cell_type": "code",
   "execution_count": null,
   "id": "ca47f0f2",
   "metadata": {},
   "outputs": [],
   "source": [
    "#一定要带括号，括号为空，表明调的构造函数\n",
    "a = A()\n",
    "a.foo1('mamq')\n",
    "a.foo2('normal method')\n",
    "a.foo3('mamq')"
   ]
  },
  {
   "cell_type": "code",
   "execution_count": null,
   "id": "dd81183f",
   "metadata": {},
   "outputs": [],
   "source": [
    "#Reverse 3-digit Integer\n",
    "#翻转三个数字\n",
    "class Solution:\n",
    "    \"\"\"\n",
    "    @param number: A 3-digit number.\n",
    "    @return: Reversed number.\n",
    "    \"\"\"\n",
    "    def reverseInteger(self, number):\n",
    "        # write your code here\n",
    "        return int(str(number)[::-1])\n",
    "    \n",
    "    "
   ]
  },
  {
   "cell_type": "code",
   "execution_count": null,
   "id": "a565b553",
   "metadata": {},
   "outputs": [],
   "source": [
    "class Solution:\n",
    "    def reverseInteger(self, number):\n",
    "        return int(str(number)[::-1])\n",
    "    \n",
    "\n",
    "solution()    "
   ]
  },
  {
   "cell_type": "markdown",
   "id": "0c2786d7",
   "metadata": {},
   "source": [
    "## if 和 elif 区别"
   ]
  },
  {
   "cell_type": "code",
   "execution_count": null,
   "id": "08376354",
   "metadata": {},
   "outputs": [],
   "source": [
    "num = 8\n",
    "if num > 3:\n",
    "    print (\"num >3\")\n",
    "    \n",
    "if num > 5:\n",
    "    print(\"num > 5\")\n",
    "else:\n",
    "    print(num)\n",
    "    # if 语句是单独的，两个都会进，else是属于第二个语句里的"
   ]
  },
  {
   "cell_type": "code",
   "execution_count": null,
   "id": "02e3b6d4",
   "metadata": {},
   "outputs": [],
   "source": []
  },
  {
   "cell_type": "code",
   "execution_count": null,
   "id": "8ec059b3",
   "metadata": {},
   "outputs": [],
   "source": [
    "num = 8\n",
    "\n",
    "if num > 3:\n",
    "    print (\"num > 3\")\n",
    "elif num > 5:\n",
    "    print(\"num > 5\")\n",
    "else:\n",
    "    print(num)\n",
    "    #more examples\n",
    "    #elif,else 都是属于 if语句里的，进入了一个就不会进另一个"
   ]
  },
  {
   "cell_type": "markdown",
   "id": "ce17d96f",
   "metadata": {},
   "source": [
    "## 得到数组长度"
   ]
  },
  {
   "cell_type": "code",
   "execution_count": null,
   "id": "e4cd1efe",
   "metadata": {},
   "outputs": [],
   "source": [
    "n = len(nums)\n",
    "nlist = [-1]*n"
   ]
  },
  {
   "cell_type": "markdown",
   "id": "4e61d6c7",
   "metadata": {},
   "source": [
    "## 平方的写法"
   ]
  },
  {
   "cell_type": "code",
   "execution_count": 5,
   "id": "a59e388f",
   "metadata": {},
   "outputs": [
    {
     "name": "stdout",
     "output_type": "stream",
     "text": [
      "9\n",
      "27\n"
     ]
    }
   ],
   "source": [
    "\n",
    "i = 3\n",
    "lm = i ** 2\n",
    "print(lm)\n",
    "\n",
    "#立方\n",
    "i = 3\n",
    "lm = i**3\n",
    "print(lm)"
   ]
  },
  {
   "cell_type": "markdown",
   "id": "e8b897d1",
   "metadata": {},
   "source": [
    "## 子序列的长度\n"
   ]
  },
  {
   "cell_type": "code",
   "execution_count": null,
   "id": "37ab7c63",
   "metadata": {},
   "outputs": [],
   "source": [
    "sublength = j - i +1 \n",
    "#后面的坐标，减前一个坐标 +1,闭区间的长度\n",
    "#一个下标是 2，一个下标是5，这两个下标之间元素的长度是5 - 2 +1 = 4\n",
    "#[1,2,\"3\",4,5,\"6\",7,8,9]"
   ]
  }
 ],
 "metadata": {
  "kernelspec": {
   "display_name": "Python 3",
   "language": "python",
   "name": "python3"
  },
  "language_info": {
   "codemirror_mode": {
    "name": "ipython",
    "version": 3
   },
   "file_extension": ".py",
   "mimetype": "text/x-python",
   "name": "python",
   "nbconvert_exporter": "python",
   "pygments_lexer": "ipython3",
   "version": "3.8.8"
  }
 },
 "nbformat": 4,
 "nbformat_minor": 5
}
