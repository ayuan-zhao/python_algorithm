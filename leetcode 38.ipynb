{
 "cells": [
  {
   "cell_type": "code",
   "execution_count": null,
   "id": "d2d431d0",
   "metadata": {},
   "outputs": [],
   "source": [
    "class Solution:\n",
    "    def countAndSay(self,n):\n",
    "        \"\"\"\n",
    "        type n : int\n",
    "        rtype: str\n",
    "        \"\"\"\n",
    "        seq = \"1\"\n",
    "        for i in range(n-1):\n",
    "            seq =. self. getNext(seq)\n",
    "            return seq\n",
    "    def getNext(self, seq):\n",
    "        i, next_seq =0,\"\"\n",
    "        while i < len(seq):\n",
    "            count = 1\n",
    "            while i < len(seq)-1 and seq[i]==seq[i+1]:\n",
    "                count +=1\n",
    "                i +=1\n",
    "            #跳出循环之后需要记录下来\n",
    "            next_seq +=str(count) "
   ]
  }
 ],
 "metadata": {
  "kernelspec": {
   "display_name": "Python 3",
   "language": "python",
   "name": "python3"
  },
  "language_info": {
   "codemirror_mode": {
    "name": "ipython",
    "version": 3
   },
   "file_extension": ".py",
   "mimetype": "text/x-python",
   "name": "python",
   "nbconvert_exporter": "python",
   "pygments_lexer": "ipython3",
   "version": "3.8.8"
  }
 },
 "nbformat": 4,
 "nbformat_minor": 5
}
